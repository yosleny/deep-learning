{
  "nbformat": 4,
  "nbformat_minor": 0,
  "metadata": {
    "colab": {
      "name": "DeepLearning-Task2.ipynb",
      "provenance": [],
      "collapsed_sections": [],
      "toc_visible": true,
      "machine_shape": "hm"
    },
    "kernelspec": {
      "name": "python3",
      "display_name": "Python 3"
    },
    "language_info": {
      "name": "python"
    },
    "gpuClass": "standard",
    "accelerator": "TPU"
  },
  "cells": [
    {
      "cell_type": "code",
      "execution_count": 52,
      "metadata": {
        "colab": {
          "base_uri": "https://localhost:8080/"
        },
        "id": "_xpHhtBBI2Hy",
        "outputId": "8cab167b-5e3e-4ef8-c385-62146d56d339"
      },
      "outputs": [
        {
          "output_type": "stream",
          "name": "stdout",
          "text": [
            "Drive already mounted at /content/drive; to attempt to forcibly remount, call drive.mount(\"/content/drive\", force_remount=True).\n"
          ]
        }
      ],
      "source": [
        "from google.colab import drive\n",
        "drive.mount('/content/drive')"
      ]
    },
    {
      "cell_type": "markdown",
      "source": [
        "# Setup Data"
      ],
      "metadata": {
        "id": "1_VuQTB5kRgs"
      }
    },
    {
      "cell_type": "code",
      "source": [
        "import os\n",
        "import datetime\n",
        "\n",
        "import IPython\n",
        "import IPython.display\n",
        "import matplotlib as mpl\n",
        "import matplotlib.pyplot as plt\n",
        "import numpy as np\n",
        "import pandas as pd\n",
        "import seaborn as sns\n",
        "import tensorflow as tf\n",
        "import numpy as np\n",
        "from keras.models import Sequential\n",
        "from keras.layers import LSTM, Input, Dropout, Conv1D, Conv1DTranspose\n",
        "from keras.layers import Dense\n",
        "from keras.layers import RepeatVector\n",
        "from keras.layers import TimeDistributed\n",
        "import pandas as pd\n",
        "from matplotlib import pyplot as plt\n",
        "from sklearn.preprocessing import MinMaxScaler, StandardScaler\n",
        "from keras.models import Model\n",
        "import seaborn as sns\n",
        "\n",
        "mpl.rcParams['figure.figsize'] = (8, 6)\n",
        "mpl.rcParams['axes.grid'] = False"
      ],
      "metadata": {
        "id": "88iJSD_mqLli"
      },
      "execution_count": 54,
      "outputs": []
    },
    {
      "cell_type": "code",
      "source": [
        "data = pd.read_csv('/content/drive/MyDrive/Deep Learning/Project/Task-2/ad_train.csv')\n",
        "data_test = pd.read_csv('/content/drive/MyDrive/Deep Learning/Project/Task-2/ad_test.csv')\n",
        "\n",
        "data = data[1:167885]  ## records for patient 1502 and 1503 otherwise colab crashes\n",
        "data = data.drop(['tsDate', 'patient'], axis = 1)\n",
        "data_test = data_test.drop(['tsDate', 'patient'], axis = 1)\n",
        "n = len(data)\n",
        "\n",
        "train_df = data[0:int(n*0.8)]\n",
        "val_df = data[int(n*0.8):]\n",
        "test_df = data_test"
      ],
      "metadata": {
        "id": "SWxc3wLxkS7v"
      },
      "execution_count": 55,
      "outputs": []
    },
    {
      "cell_type": "markdown",
      "source": [
        "#Scaling"
      ],
      "metadata": {
        "id": "_M8-6V0omQUN"
      }
    },
    {
      "cell_type": "code",
      "source": [
        "\n",
        "from sklearn.preprocessing import MinMaxScaler\n",
        "\n",
        "train = train_df\n",
        "scalers={}\n",
        "\n",
        "for i in train_df.columns:\n",
        "    scaler = MinMaxScaler(feature_range=(-1,1))\n",
        "    s_s = scaler.fit_transform(train[i].values.reshape(-1,1))\n",
        "    s_s=np.reshape(s_s,len(s_s))\n",
        "    scalers['scaler_'+ i] = scaler\n",
        "    train[i]=s_s\n",
        "\n",
        "val = val_df\n",
        "for i in train_df.columns:\n",
        "    scaler = scalers['scaler_'+i]\n",
        "    s_s = scaler.transform(val[i].values.reshape(-1,1))\n",
        "    s_s=np.reshape(s_s,len(s_s))\n",
        "    scalers['scaler_'+i] = scaler\n",
        "    val[i]=s_s\n",
        "\n",
        "test = test_df\n",
        "for i in train_df.columns:\n",
        "    scaler = scalers['scaler_'+i]\n",
        "    s_s = scaler.transform(test[i].values.reshape(-1,1))\n",
        "    s_s=np.reshape(s_s,len(s_s))\n",
        "    scalers['scaler_'+i] = scaler\n",
        "    test[i]=s_s"
      ],
      "metadata": {
        "id": "IzM4VOpCki23"
      },
      "execution_count": null,
      "outputs": []
    },
    {
      "cell_type": "markdown",
      "source": [
        "# Window Splitting"
      ],
      "metadata": {
        "id": "8uZyDJEgmZbo"
      }
    },
    {
      "cell_type": "code",
      "source": [
        "n_past = 60\n",
        "n_future = 60\n",
        "n_features = 5\n",
        "\n",
        "def split_series(series, n_past, n_future):\n",
        "  X, y = list(), list()\n",
        "  for window_start in range(len(series)):\n",
        "    past_end = window_start + n_past\n",
        "    future_end = past_end + n_future\n",
        "    if future_end > len(series):\n",
        "      break\n",
        "    past, future = series[window_start:past_end, :], series[past_end:future_end, :]\n",
        "    X.append(past)\n",
        "    y.append(future)\n",
        "  return np.array(X), np.array(y)"
      ],
      "metadata": {
        "id": "f6iTRAK1k27O"
      },
      "execution_count": 57,
      "outputs": []
    },
    {
      "cell_type": "code",
      "source": [
        "X_train, y_train = split_series(train.values,n_past, n_future)\n",
        "X_train = X_train.reshape((X_train.shape[0], X_train.shape[1], n_features))\n",
        "y_train = y_train.reshape((y_train.shape[0], y_train.shape[1], n_features))\n",
        "\n",
        "X_val, y_val = split_series(val.values, n_past, n_future)\n",
        "X_val = X_val.reshape((X_val.shape[0], X_val.shape[1], n_features))\n",
        "y_val = y_val.reshape((y_val.shape[0], y_val.shape[1], n_features))\n",
        "\n",
        "X_test, y_test = split_series(test.values,n_past, n_future)\n",
        "X_test = X_test.reshape((X_test.shape[0], X_test.shape[1],n_features))\n",
        "y_test = y_test.reshape((y_test.shape[0], y_test.shape[1], n_features))"
      ],
      "metadata": {
        "id": "vq4ETgiBlB6g"
      },
      "execution_count": 8,
      "outputs": []
    },
    {
      "cell_type": "code",
      "source": [
        "X_train.shape[1]"
      ],
      "metadata": {
        "colab": {
          "base_uri": "https://localhost:8080/"
        },
        "id": "zh50pMTNq7lG",
        "outputId": "ab1712cf-9ce7-4de7-fcb2-639c65d3e8ef"
      },
      "execution_count": 15,
      "outputs": [
        {
          "output_type": "execute_result",
          "data": {
            "text/plain": [
              "60"
            ]
          },
          "metadata": {},
          "execution_count": 15
        }
      ]
    },
    {
      "cell_type": "markdown",
      "source": [
        "#Modeling"
      ],
      "metadata": {
        "id": "PpOtpDnQmfeR"
      }
    },
    {
      "cell_type": "markdown",
      "source": [
        "## Model 1"
      ],
      "metadata": {
        "id": "kDXRrGIMmjGE"
      }
    },
    {
      "cell_type": "code",
      "source": [
        "encoder_inputs = Input(shape=(n_past, n_features))\n",
        "encoder_l1 = LSTM(16, return_state=True, activation='tanh')\n",
        "encoder_outputs1 = encoder_l1(encoder_inputs)\n",
        "encoder_states1 = encoder_outputs1[1:]\n",
        "#\n",
        "decoder_inputs = RepeatVector(n_future)(encoder_outputs1[0])\n",
        "#\n",
        "decoder_l1 = LSTM(16, return_sequences=True, activation='tanh')(decoder_inputs,initial_state = encoder_states1)\n",
        "decoder_outputs1 = TimeDistributed(tf.keras.layers.Dense(n_features))(decoder_l1)\n",
        "#\n",
        "model1 = Model(encoder_inputs,decoder_outputs1)\n",
        "#\n",
        "model1.summary()"
      ],
      "metadata": {
        "colab": {
          "base_uri": "https://localhost:8080/"
        },
        "id": "njlbdfBHlUXL",
        "outputId": "a401272b-6bbb-45d4-f6e5-646fa2204832"
      },
      "execution_count": 72,
      "outputs": [
        {
          "output_type": "stream",
          "name": "stdout",
          "text": [
            "Model: \"model_5\"\n",
            "__________________________________________________________________________________________________\n",
            " Layer (type)                   Output Shape         Param #     Connected to                     \n",
            "==================================================================================================\n",
            " input_8 (InputLayer)           [(None, 60, 5)]      0           []                               \n",
            "                                                                                                  \n",
            " lstm_43 (LSTM)                 [(None, 16),         1408        ['input_8[0][0]']                \n",
            "                                 (None, 16),                                                      \n",
            "                                 (None, 16)]                                                      \n",
            "                                                                                                  \n",
            " repeat_vector_23 (RepeatVector  (None, 60, 16)      0           ['lstm_43[0][0]']                \n",
            " )                                                                                                \n",
            "                                                                                                  \n",
            " lstm_44 (LSTM)                 (None, 60, 16)       2112        ['repeat_vector_23[0][0]',       \n",
            "                                                                  'lstm_43[0][1]',                \n",
            "                                                                  'lstm_43[0][2]']                \n",
            "                                                                                                  \n",
            " time_distributed_13 (TimeDistr  (None, 60, 5)       85          ['lstm_44[0][0]']                \n",
            " ibuted)                                                                                          \n",
            "                                                                                                  \n",
            "==================================================================================================\n",
            "Total params: 3,605\n",
            "Trainable params: 3,605\n",
            "Non-trainable params: 0\n",
            "__________________________________________________________________________________________________\n"
          ]
        }
      ]
    },
    {
      "cell_type": "code",
      "source": [
        "reduce_lr = tf.keras.callbacks.LearningRateScheduler(lambda x: 1e-3 * 0.90 ** x)\n",
        "history = {}\n",
        "\n",
        "model1.compile(optimizer=tf.keras.optimizers.Adam(), loss=tf.keras.losses.MeanAbsoluteError())\n",
        "history[\"model1\"] = model1.fit(X_train, y_train, epochs=5, validation_data=(X_val,y_val), batch_size=64, verbose=1, callbacks=[reduce_lr])"
      ],
      "metadata": {
        "colab": {
          "base_uri": "https://localhost:8080/"
        },
        "id": "XDDDVlR6laxr",
        "outputId": "2e52bebb-77a8-4310-9012-0f0d4d29ab37"
      },
      "execution_count": 73,
      "outputs": [
        {
          "output_type": "stream",
          "name": "stdout",
          "text": [
            "Epoch 1/5\n",
            "2097/2097 [==============================] - 111s 51ms/step - loss: 0.0933 - val_loss: 0.0843 - lr: 0.0010\n",
            "Epoch 2/5\n",
            "2097/2097 [==============================] - 112s 53ms/step - loss: 0.0793 - val_loss: 0.0799 - lr: 9.0000e-04\n",
            "Epoch 3/5\n",
            "2097/2097 [==============================] - 109s 52ms/step - loss: 0.0782 - val_loss: 0.0790 - lr: 8.1000e-04\n",
            "Epoch 4/5\n",
            "2097/2097 [==============================] - 115s 55ms/step - loss: 0.0776 - val_loss: 0.0776 - lr: 7.2900e-04\n",
            "Epoch 5/5\n",
            "2097/2097 [==============================] - 97s 46ms/step - loss: 0.0772 - val_loss: 0.0776 - lr: 6.5610e-04\n"
          ]
        }
      ]
    },
    {
      "cell_type": "code",
      "source": [
        "plt.plot(history['model1'].history['loss'], label='Training loss')\n",
        "plt.plot(history['model1'].history['val_loss'], label='Validation loss')\n",
        "plt.legend()"
      ],
      "metadata": {
        "colab": {
          "base_uri": "https://localhost:8080/",
          "height": 394
        },
        "id": "Hh366ran2-Uw",
        "outputId": "147a2033-186f-4c74-f1de-2bc648671d3b"
      },
      "execution_count": 74,
      "outputs": [
        {
          "output_type": "execute_result",
          "data": {
            "text/plain": [
              "<matplotlib.legend.Legend at 0x7f7fd6561bd0>"
            ]
          },
          "metadata": {},
          "execution_count": 74
        },
        {
          "output_type": "display_data",
          "data": {
            "text/plain": [
              "<Figure size 576x432 with 1 Axes>"
            ],
            "image/png": "[encoded data removed]"
          },
          "metadata": {
            "needs_background": "light"
          }
        }
      ]
    },
    {
      "cell_type": "code",
      "source": [
        "trainPredict = model1.predict(X_train)"
      ],
      "metadata": {
        "id": "cHG7NpVBmUdL"
      },
      "execution_count": 75,
      "outputs": []
    },
    {
      "cell_type": "code",
      "source": [
        "trainMAE = np.mean(np.abs(trainPredict - X_train), axis=1)\n",
        "plt.hist(trainMAE, bins=60)\n",
        "max_trainMAE = 0.5"
      ],
      "metadata": {
        "colab": {
          "base_uri": "https://localhost:8080/",
          "height": 376
        },
        "id": "rCuqB-Yc2ZtS",
        "outputId": "a030b231-820b-436f-cb90-f08addb13bc7"
      },
      "execution_count": 76,
      "outputs": [
        {
          "output_type": "display_data",
          "data": {
            "text/plain": [
              "<Figure size 576x432 with 1 Axes>"
            ],
            "image/png": "[encoded data removed]"
          },
          "metadata": {
            "needs_background": "light"
          }
        }
      ]
    },
    {
      "cell_type": "code",
      "source": [
        "testPredict = model1.predict(X_test)"
      ],
      "metadata": {
        "id": "FxjokI_YnyLI"
      },
      "execution_count": 77,
      "outputs": []
    },
    {
      "cell_type": "code",
      "source": [
        "testMAE = np.mean(np.abs(testPredict - X_test), axis=1)\n",
        "plt.hist(testMAE, bins=60)"
      ],
      "metadata": {
        "id": "22ixwgX81tP8",
        "colab": {
          "base_uri": "https://localhost:8080/",
          "height": 1000
        },
        "outputId": "2c351910-3d45-411a-fb30-b6c9170bf0ea"
      },
      "execution_count": 78,
      "outputs": [
        {
          "output_type": "execute_result",
          "data": {
            "text/plain": [
              "(array([[ 32567.,  15429.,  19781.,  16926.,  15514.,  19758.,  12796.,\n",
              "          14799.,  17410.,  19103.,  17426.,  20364.,  15268.,  18071.,\n",
              "          15987.,  17011.,  15177.,   6943.,  15942.,  19752.,  13189.,\n",
              "          14582.,  11501.,  16713.,  11116.,  10524.,  11606.,  12640.,\n",
              "          10333.,  12773.,  11980.,  11888.,  10851.,  15222.,  12460.,\n",
              "          13961.,  12640.,  10077.,  14086.,  12159.,  14016.,  15840.,\n",
              "          11796.,   6243.,   6437.,   6710.,   6470.,   4757.,   5390.,\n",
              "           3498.,   3095.,   5261.,   4878.,   3691.,   3331.,   3193.,\n",
              "           5051.,   5407.,   4880.,   6399.],\n",
              "        [722668.,      0.,      0.,      0.,      0.,      0.,      0.,\n",
              "              0.,      0.,      0.,      0.,      0.,      0.,      0.,\n",
              "              0.,      0.,      0.,      0.,      0.,      0.,      0.,\n",
              "              0.,      0.,      0.,      0.,      0.,      0.,      0.,\n",
              "              0.,      0.,      0.,      0.,      0.,      0.,      0.,\n",
              "              0.,      0.,      0.,      0.,      0.,      0.,      0.,\n",
              "              0.,      0.,      0.,      0.,      0.,      0.,      0.,\n",
              "              0.,      0.,      0.,      0.,      0.,      0.,      0.,\n",
              "              0.,      0.,      0.,      0.],\n",
              "        [722668.,      0.,      0.,      0.,      0.,      0.,      0.,\n",
              "              0.,      0.,      0.,      0.,      0.,      0.,      0.,\n",
              "              0.,      0.,      0.,      0.,      0.,      0.,      0.,\n",
              "              0.,      0.,      0.,      0.,      0.,      0.,      0.,\n",
              "              0.,      0.,      0.,      0.,      0.,      0.,      0.,\n",
              "              0.,      0.,      0.,      0.,      0.,      0.,      0.,\n",
              "              0.,      0.,      0.,      0.,      0.,      0.,      0.,\n",
              "              0.,      0.,      0.,      0.,      0.,      0.,      0.,\n",
              "              0.,      0.,      0.,      0.],\n",
              "        [722668.,      0.,      0.,      0.,      0.,      0.,      0.,\n",
              "              0.,      0.,      0.,      0.,      0.,      0.,      0.,\n",
              "              0.,      0.,      0.,      0.,      0.,      0.,      0.,\n",
              "              0.,      0.,      0.,      0.,      0.,      0.,      0.,\n",
              "              0.,      0.,      0.,      0.,      0.,      0.,      0.,\n",
              "              0.,      0.,      0.,      0.,      0.,      0.,      0.,\n",
              "              0.,      0.,      0.,      0.,      0.,      0.,      0.,\n",
              "              0.,      0.,      0.,      0.,      0.,      0.,      0.,\n",
              "              0.,      0.,      0.,      0.],\n",
              "        [722668.,      0.,      0.,      0.,      0.,      0.,      0.,\n",
              "              0.,      0.,      0.,      0.,      0.,      0.,      0.,\n",
              "              0.,      0.,      0.,      0.,      0.,      0.,      0.,\n",
              "              0.,      0.,      0.,      0.,      0.,      0.,      0.,\n",
              "              0.,      0.,      0.,      0.,      0.,      0.,      0.,\n",
              "              0.,      0.,      0.,      0.,      0.,      0.,      0.,\n",
              "              0.,      0.,      0.,      0.,      0.,      0.,      0.,\n",
              "              0.,      0.,      0.,      0.,      0.,      0.,      0.,\n",
              "              0.,      0.,      0.,      0.]]),\n",
              " array([1.51446532e-03, 1.60097772e+00, 3.20044097e+00, 4.79990422e+00,\n",
              "        6.39936747e+00, 7.99883072e+00, 9.59829397e+00, 1.11977572e+01,\n",
              "        1.27972205e+01, 1.43966837e+01, 1.59961470e+01, 1.75956102e+01,\n",
              "        1.91950735e+01, 2.07945367e+01, 2.23940000e+01, 2.39934632e+01,\n",
              "        2.55929265e+01, 2.71923897e+01, 2.87918530e+01, 3.03913162e+01,\n",
              "        3.19907795e+01, 3.35902427e+01, 3.51897060e+01, 3.67891692e+01,\n",
              "        3.83886325e+01, 3.99880957e+01, 4.15875590e+01, 4.31870222e+01,\n",
              "        4.47864855e+01, 4.63859487e+01, 4.79854120e+01, 4.95848752e+01,\n",
              "        5.11843385e+01, 5.27838017e+01, 5.43832650e+01, 5.59827283e+01,\n",
              "        5.75821915e+01, 5.91816548e+01, 6.07811180e+01, 6.23805813e+01,\n",
              "        6.39800445e+01, 6.55795078e+01, 6.71789710e+01, 6.87784343e+01,\n",
              "        7.03778975e+01, 7.19773608e+01, 7.35768240e+01, 7.51762873e+01,\n",
              "        7.67757505e+01, 7.83752138e+01, 7.99746770e+01, 8.15741403e+01,\n",
              "        8.31736035e+01, 8.47730668e+01, 8.63725300e+01, 8.79719933e+01,\n",
              "        8.95714565e+01, 9.11709198e+01, 9.27703830e+01, 9.43698463e+01,\n",
              "        9.59693095e+01]),\n",
              " <a list of 5 Lists of Patches objects>)"
            ]
          },
          "metadata": {},
          "execution_count": 78
        },
        {
          "output_type": "display_data",
          "data": {
            "text/plain": [
              "<Figure size 576x432 with 1 Axes>"
            ],
            "image/png": "[encoded data removed]"
          },
          "metadata": {
            "needs_background": "light"
          }
        }
      ]
    },
    {
      "cell_type": "markdown",
      "source": [
        "## Model 2"
      ],
      "metadata": {
        "id": "XrDv0MogmzCv"
      }
    },
    {
      "cell_type": "code",
      "source": [
        "\n",
        "model2 = Sequential()\n",
        "model2.add(LSTM(16, activation='tanh', input_shape=(X_train.shape[1], X_train.shape[2]), return_sequences=True))\n",
        "model2.add(LSTM(8, activation='tanh', return_sequences=False))\n",
        "model2.add(RepeatVector(X_train.shape[1]))\n",
        "model2.add(LSTM(8, activation='tanh', return_sequences=True))\n",
        "model2.add(LSTM(16, activation='tanh', return_sequences=True))\n",
        "model2.add(TimeDistributed(Dense(X_train.shape[2])))\n",
        "\n",
        "model2.compile(optimizer='adam', loss='mse')\n",
        "model2.summary()"
      ],
      "metadata": {
        "colab": {
          "base_uri": "https://localhost:8080/"
        },
        "id": "yQBj08hI9ggZ",
        "outputId": "6dbd87dd-c0e0-460e-c485-eb725ec61c17"
      },
      "execution_count": 79,
      "outputs": [
        {
          "output_type": "stream",
          "name": "stdout",
          "text": [
            "Model: \"sequential_25\"\n",
            "_________________________________________________________________\n",
            " Layer (type)                Output Shape              Param #   \n",
            "=================================================================\n",
            " lstm_45 (LSTM)              (None, 60, 16)            1408      \n",
            "                                                                 \n",
            " lstm_46 (LSTM)              (None, 8)                 800       \n",
            "                                                                 \n",
            " repeat_vector_24 (RepeatVec  (None, 60, 8)            0         \n",
            " tor)                                                            \n",
            "                                                                 \n",
            " lstm_47 (LSTM)              (None, 60, 8)             544       \n",
            "                                                                 \n",
            " lstm_48 (LSTM)              (None, 60, 16)            1600      \n",
            "                                                                 \n",
            " time_distributed_14 (TimeDi  (None, 60, 5)            85        \n",
            " stributed)                                                      \n",
            "                                                                 \n",
            "=================================================================\n",
            "Total params: 4,437\n",
            "Trainable params: 4,437\n",
            "Non-trainable params: 0\n",
            "_________________________________________________________________\n"
          ]
        }
      ]
    },
    {
      "cell_type": "code",
      "source": [
        "history[\"model2\"] = model2.fit(X_train, y_train, epochs=5, validation_data=(X_val,y_val), batch_size=512, verbose=1)"
      ],
      "metadata": {
        "colab": {
          "base_uri": "https://localhost:8080/"
        },
        "id": "o-z_Z2Or_Jv_",
        "outputId": "01f0335b-231d-433b-8156-941a645d8f21"
      },
      "execution_count": 80,
      "outputs": [
        {
          "output_type": "stream",
          "name": "stdout",
          "text": [
            "Epoch 1/5\n",
            "263/263 [==============================] - 61s 208ms/step - loss: 0.0820 - val_loss: 0.0575\n",
            "Epoch 2/5\n",
            "263/263 [==============================] - 51s 193ms/step - loss: 0.0384 - val_loss: 0.0529\n",
            "Epoch 3/5\n",
            "263/263 [==============================] - 53s 201ms/step - loss: 0.0345 - val_loss: 0.0499\n",
            "Epoch 4/5\n",
            "263/263 [==============================] - 54s 204ms/step - loss: 0.0327 - val_loss: 0.0466\n",
            "Epoch 5/5\n",
            "263/263 [==============================] - 58s 221ms/step - loss: 0.0316 - val_loss: 0.0450\n"
          ]
        }
      ]
    },
    {
      "cell_type": "code",
      "source": [
        "plt.plot(history['model2'].history['loss'], label='Training loss')\n",
        "plt.plot(history['model2'].history['val_loss'], label='Validation loss')\n",
        "plt.legend()"
      ],
      "metadata": {
        "colab": {
          "base_uri": "https://localhost:8080/",
          "height": 392
        },
        "id": "PBHdrMJLRutk",
        "outputId": "1c74f4d3-c034-4a0a-ad32-2b8fd6de992e"
      },
      "execution_count": 81,
      "outputs": [
        {
          "output_type": "execute_result",
          "data": {
            "text/plain": [
              "<matplotlib.legend.Legend at 0x7f7fd1f3fa10>"
            ]
          },
          "metadata": {},
          "execution_count": 81
        },
        {
          "output_type": "display_data",
          "data": {
            "text/plain": [
              "<Figure size 576x432 with 1 Axes>"
            ],
            "image/png": "[encoded data removed]"
          },
          "metadata": {
            "needs_background": "light"
          }
        }
      ]
    },
    {
      "cell_type": "code",
      "source": [
        "trainPredict2 = model2.predict(X_train)"
      ],
      "metadata": {
        "id": "Btbfw3LEAQav"
      },
      "execution_count": 82,
      "outputs": []
    },
    {
      "cell_type": "code",
      "source": [
        "trainMAE2 = np.mean(np.abs(trainPredict - X_train), axis=1)\n",
        "plt.hist(trainMAE, bins=60)\n",
        "max_trainMAE2 = 0.5"
      ],
      "metadata": {
        "colab": {
          "base_uri": "https://localhost:8080/",
          "height": 376
        },
        "id": "D6Bb3HKlAVjH",
        "outputId": "ec546ab9-7722-4541-9f17-a16bd905ea96"
      },
      "execution_count": 83,
      "outputs": [
        {
          "output_type": "display_data",
          "data": {
            "text/plain": [
              "<Figure size 576x432 with 1 Axes>"
            ],
            "image/png": "[encoded data removed]"
          },
          "metadata": {
            "needs_background": "light"
          }
        }
      ]
    },
    {
      "cell_type": "code",
      "source": [
        "testPredict2 = model2.predict(X_test)\n"
      ],
      "metadata": {
        "id": "xudRRJf2AYaZ"
      },
      "execution_count": 84,
      "outputs": []
    },
    {
      "cell_type": "code",
      "source": [
        "testMAE2 = np.mean(np.abs(testPredict - X_test), axis=1)\n",
        "plt.hist(testMAE, bins=60)"
      ],
      "metadata": {
        "colab": {
          "base_uri": "https://localhost:8080/",
          "height": 1000
        },
        "id": "RbI99C6iAg4Q",
        "outputId": "538e9da7-9e2f-411d-8d76-932907ab7751"
      },
      "execution_count": 85,
      "outputs": [
        {
          "output_type": "execute_result",
          "data": {
            "text/plain": [
              "(array([[ 32567.,  15429.,  19781.,  16926.,  15514.,  19758.,  12796.,\n",
              "          14799.,  17410.,  19103.,  17426.,  20364.,  15268.,  18071.,\n",
              "          15987.,  17011.,  15177.,   6943.,  15942.,  19752.,  13189.,\n",
              "          14582.,  11501.,  16713.,  11116.,  10524.,  11606.,  12640.,\n",
              "          10333.,  12773.,  11980.,  11888.,  10851.,  15222.,  12460.,\n",
              "          13961.,  12640.,  10077.,  14086.,  12159.,  14016.,  15840.,\n",
              "          11796.,   6243.,   6437.,   6710.,   6470.,   4757.,   5390.,\n",
              "           3498.,   3095.,   5261.,   4878.,   3691.,   3331.,   3193.,\n",
              "           5051.,   5407.,   4880.,   6399.],\n",
              "        [722668.,      0.,      0.,      0.,      0.,      0.,      0.,\n",
              "              0.,      0.,      0.,      0.,      0.,      0.,      0.,\n",
              "              0.,      0.,      0.,      0.,      0.,      0.,      0.,\n",
              "              0.,      0.,      0.,      0.,      0.,      0.,      0.,\n",
              "              0.,      0.,      0.,      0.,      0.,      0.,      0.,\n",
              "              0.,      0.,      0.,      0.,      0.,      0.,      0.,\n",
              "              0.,      0.,      0.,      0.,      0.,      0.,      0.,\n",
              "              0.,      0.,      0.,      0.,      0.,      0.,      0.,\n",
              "              0.,      0.,      0.,      0.],\n",
              "        [722668.,      0.,      0.,      0.,      0.,      0.,      0.,\n",
              "              0.,      0.,      0.,      0.,      0.,      0.,      0.,\n",
              "              0.,      0.,      0.,      0.,      0.,      0.,      0.,\n",
              "              0.,      0.,      0.,      0.,      0.,      0.,      0.,\n",
              "              0.,      0.,      0.,      0.,      0.,      0.,      0.,\n",
              "              0.,      0.,      0.,      0.,      0.,      0.,      0.,\n",
              "              0.,      0.,      0.,      0.,      0.,      0.,      0.,\n",
              "              0.,      0.,      0.,      0.,      0.,      0.,      0.,\n",
              "              0.,      0.,      0.,      0.],\n",
              "        [722668.,      0.,      0.,      0.,      0.,      0.,      0.,\n",
              "              0.,      0.,      0.,      0.,      0.,      0.,      0.,\n",
              "              0.,      0.,      0.,      0.,      0.,      0.,      0.,\n",
              "              0.,      0.,      0.,      0.,      0.,      0.,      0.,\n",
              "              0.,      0.,      0.,      0.,      0.,      0.,      0.,\n",
              "              0.,      0.,      0.,      0.,      0.,      0.,      0.,\n",
              "              0.,      0.,      0.,      0.,      0.,      0.,      0.,\n",
              "              0.,      0.,      0.,      0.,      0.,      0.,      0.,\n",
              "              0.,      0.,      0.,      0.],\n",
              "        [722668.,      0.,      0.,      0.,      0.,      0.,      0.,\n",
              "              0.,      0.,      0.,      0.,      0.,      0.,      0.,\n",
              "              0.,      0.,      0.,      0.,      0.,      0.,      0.,\n",
              "              0.,      0.,      0.,      0.,      0.,      0.,      0.,\n",
              "              0.,      0.,      0.,      0.,      0.,      0.,      0.,\n",
              "              0.,      0.,      0.,      0.,      0.,      0.,      0.,\n",
              "              0.,      0.,      0.,      0.,      0.,      0.,      0.,\n",
              "              0.,      0.,      0.,      0.,      0.,      0.,      0.,\n",
              "              0.,      0.,      0.,      0.]]),\n",
              " array([1.51446532e-03, 1.60097772e+00, 3.20044097e+00, 4.79990422e+00,\n",
              "        6.39936747e+00, 7.99883072e+00, 9.59829397e+00, 1.11977572e+01,\n",
              "        1.27972205e+01, 1.43966837e+01, 1.59961470e+01, 1.75956102e+01,\n",
              "        1.91950735e+01, 2.07945367e+01, 2.23940000e+01, 2.39934632e+01,\n",
              "        2.55929265e+01, 2.71923897e+01, 2.87918530e+01, 3.03913162e+01,\n",
              "        3.19907795e+01, 3.35902427e+01, 3.51897060e+01, 3.67891692e+01,\n",
              "        3.83886325e+01, 3.99880957e+01, 4.15875590e+01, 4.31870222e+01,\n",
              "        4.47864855e+01, 4.63859487e+01, 4.79854120e+01, 4.95848752e+01,\n",
              "        5.11843385e+01, 5.27838017e+01, 5.43832650e+01, 5.59827283e+01,\n",
              "        5.75821915e+01, 5.91816548e+01, 6.07811180e+01, 6.23805813e+01,\n",
              "        6.39800445e+01, 6.55795078e+01, 6.71789710e+01, 6.87784343e+01,\n",
              "        7.03778975e+01, 7.19773608e+01, 7.35768240e+01, 7.51762873e+01,\n",
              "        7.67757505e+01, 7.83752138e+01, 7.99746770e+01, 8.15741403e+01,\n",
              "        8.31736035e+01, 8.47730668e+01, 8.63725300e+01, 8.79719933e+01,\n",
              "        8.95714565e+01, 9.11709198e+01, 9.27703830e+01, 9.43698463e+01,\n",
              "        9.59693095e+01]),\n",
              " <a list of 5 Lists of Patches objects>)"
            ]
          },
          "metadata": {},
          "execution_count": 85
        },
        {
          "output_type": "display_data",
          "data": {
            "text/plain": [
              "<Figure size 576x432 with 1 Axes>"
            ],
            "image/png": "[encoded data removed]"
          },
          "metadata": {
            "needs_background": "light"
          }
        }
      ]
    }
  ]
}