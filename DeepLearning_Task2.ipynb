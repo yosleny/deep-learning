{
  "nbformat": 4,
  "nbformat_minor": 0,
  "metadata": {
    "colab": {
      "name": "DeepLearning-Task2.ipynb",
      "provenance": [],
      "collapsed_sections": [
        "HtcOVE1pTO6D",
        "bdy5P4m4PsBF",
        "GVPm7SkBP0k3",
        "bQCfXAD2P5wA",
        "QFtYQrLug2uE",
        "gBpmXY3-g60G"
      ],
      "toc_visible": true,
      "machine_shape": "hm"
    },
    "kernelspec": {
      "name": "python3",
      "display_name": "Python 3"
    },
    "language_info": {
      "name": "python"
    },
    "gpuClass": "standard"
  },
  "cells": [
    {
      "cell_type": "code",
      "execution_count": 2,
      "metadata": {
        "colab": {
          "base_uri": "https://localhost:8080/"
        },
        "id": "_xpHhtBBI2Hy",
        "outputId": "be4c68ca-c648-425a-b9a3-573783329db8"
      },
      "outputs": [
        {
          "output_type": "stream",
          "name": "stdout",
          "text": [
            "Drive already mounted at /content/drive; to attempt to forcibly remount, call drive.mount(\"/content/drive\", force_remount=True).\n"
          ]
        }
      ],
      "source": [
        "from google.colab import drive\n",
        "drive.mount('/content/drive')"
      ]
    },
    {
      "cell_type": "code",
      "source": [
        "import os\n",
        "import datetime\n",
        "\n",
        "import IPython\n",
        "import IPython.display\n",
        "import matplotlib as mpl\n",
        "import matplotlib.pyplot as plt\n",
        "import numpy as np\n",
        "import pandas as pd\n",
        "import seaborn as sns\n",
        "import tensorflow as tf\n",
        "\n",
        "mpl.rcParams['figure.figsize'] = (8, 6)\n",
        "mpl.rcParams['axes.grid'] = False\n"
      ],
      "metadata": {
        "id": "STCFY7qGJI7T"
      },
      "execution_count": 2,
      "outputs": []
    },
    {
      "cell_type": "markdown",
      "source": [
        "# Setup Data"
      ],
      "metadata": {
        "id": "E8nZ9ck5Jh2F"
      }
    },
    {
      "cell_type": "code",
      "source": [
        "\n",
        "data = pd.read_csv('/content/drive/MyDrive/Deep Learning/Project/Task-2/ad_train.csv')\n",
        "data_test = pd.read_csv('/content/drive/MyDrive/Deep Learning/Project/Task-2/ad_test.csv')\n",
        "\n",
        "data['tsDate'] = pd.to_datetime(data['tsDate'])\n",
        "data1 = data[1:85245]  ## records for patient 1502\n",
        "\n",
        "n = len(data1)\n",
        "\n",
        "train_df = data1[0:int(n*0.8)]\n",
        "val_df = data1[int(n*0.8):]\n",
        "test_df = data_test"
      ],
      "metadata": {
        "id": "eB0Bg0PMJkl8"
      },
      "execution_count": null,
      "outputs": []
    },
    {
      "cell_type": "code",
      "source": [
        "train_df.shape"
      ],
      "metadata": {
        "colab": {
          "base_uri": "https://localhost:8080/"
        },
        "id": "fiOsv3YeKvXb",
        "outputId": "1308643c-c2a4-4cfe-d864-ecd325289c3b"
      },
      "execution_count": null,
      "outputs": [
        {
          "output_type": "execute_result",
          "data": {
            "text/plain": [
              "(68195, 7)"
            ]
          },
          "metadata": {},
          "execution_count": 4
        }
      ]
    },
    {
      "cell_type": "markdown",
      "source": [
        "## Normalization"
      ],
      "metadata": {
        "id": "aXw94EAiS0YL"
      }
    },
    {
      "cell_type": "code",
      "source": [
        "from sklearn.preprocessing import MinMaxScaler\n",
        "train = train_df\n",
        "scalers={}\n",
        "\n",
        "for i in ['x', 'y', 'z', 'heartRate']:\n",
        "    scaler = MinMaxScaler(feature_range=(-1,1))\n",
        "    s_s = scaler.fit_transform(train[i].values.reshape(-1,1))\n",
        "    s_s=np.reshape(s_s,len(s_s))\n",
        "    scalers['scaler_'+ i] = scaler\n",
        "    train[i]=s_s\n",
        "\n",
        "val = val_df\n",
        "for i in ['x', 'y', 'z', 'heartRate']:\n",
        "    scaler = scalers['scaler_'+i]\n",
        "    s_s = scaler.transform(val[i].values.reshape(-1,1))\n",
        "    s_s=np.reshape(s_s,len(s_s))\n",
        "    scalers['scaler_'+i] = scaler\n",
        "    val[i]=s_s\n",
        "\n",
        "test = test_df\n",
        "for i in ['x', 'y', 'z', 'heartRate']:\n",
        "    scaler = scalers['scaler_'+i]\n",
        "    s_s = scaler.transform(test[i].values.reshape(-1,1))\n",
        "    s_s=np.reshape(s_s,len(s_s))\n",
        "    scalers['scaler_'+i] = scaler\n",
        "    test[i]=s_s\n",
        "\n"
      ],
      "metadata": {
        "id": "vYjHskqyS8L_"
      },
      "execution_count": null,
      "outputs": []
    },
    {
      "cell_type": "code",
      "source": [
        "df_std = train[['x', 'y', 'z', 'heartRate']].melt(var_name='Column', value_name='Normalized')\n",
        "plt.figure(figsize=(12, 6))\n",
        "ax = sns.violinplot(x='Column', y='Normalized', data=df_std)\n",
        "_ = ax.set_xticklabels(train.keys().drop(['tsDate', 'patient', 'timestamp']), rotation=90)"
      ],
      "metadata": {
        "colab": {
          "base_uri": "https://localhost:8080/",
          "height": 427
        },
        "id": "Axu7gTUBVSKh",
        "outputId": "7f0c5601-1a3d-481d-81c1-44cb9b7de865"
      },
      "execution_count": null,
      "outputs": [
        {
          "output_type": "display_data",
          "data": {
            "text/plain": [
              "<Figure size 864x432 with 1 Axes>"
            ],
            "image/png": "[encoded data removed]"
          },
          "metadata": {
            "needs_background": "light"
          }
        }
      ]
    },
    {
      "cell_type": "code",
      "source": [
        "train.shape"
      ],
      "metadata": {
        "colab": {
          "base_uri": "https://localhost:8080/"
        },
        "id": "wLsQjnZDdUHO",
        "outputId": "26d24c7d-f98b-4956-d3c2-11e8b4abe40a"
      },
      "execution_count": null,
      "outputs": [
        {
          "output_type": "execute_result",
          "data": {
            "text/plain": [
              "(68195, 7)"
            ]
          },
          "metadata": {},
          "execution_count": 18
        }
      ]
    },
    {
      "cell_type": "code",
      "source": [
        "train.info()"
      ],
      "metadata": {
        "id": "3c8rLUYBjMT4"
      },
      "execution_count": null,
      "outputs": []
    },
    {
      "cell_type": "markdown",
      "source": [
        "# Sampling"
      ],
      "metadata": {
        "id": "HtcOVE1pTO6D"
      }
    },
    {
      "cell_type": "code",
      "source": [
        "X_train = train.set_index('tsDate').resample(\"H\").mean()\n",
        "X_val = val.set_index('tsDate').resample(\"H\").mean()"
      ],
      "metadata": {
        "id": "AXB1DGNPTRMb"
      },
      "execution_count": null,
      "outputs": []
    },
    {
      "cell_type": "code",
      "source": [
        "X_train = X_train.reset_index()\n",
        "X_val = X_val.reset_index()"
      ],
      "metadata": {
        "id": "FTVmnyGNrNtb"
      },
      "execution_count": null,
      "outputs": []
    },
    {
      "cell_type": "code",
      "source": [
        "X_train.keys()"
      ],
      "metadata": {
        "colab": {
          "base_uri": "https://localhost:8080/"
        },
        "id": "wCPy_WZRTaXu",
        "outputId": "060e2544-93e1-43c3-bd62-65fda65019aa"
      },
      "execution_count": null,
      "outputs": [
        {
          "output_type": "execute_result",
          "data": {
            "text/plain": [
              "Index(['tsDate', 'patient', 'x', 'y', 'z', 'heartRate', 'timestamp'], dtype='object')"
            ]
          },
          "metadata": {},
          "execution_count": 78
        }
      ]
    },
    {
      "cell_type": "markdown",
      "source": [
        "# Ploting"
      ],
      "metadata": {
        "id": "bdy5P4m4PsBF"
      }
    },
    {
      "cell_type": "markdown",
      "source": [
        "## X over time"
      ],
      "metadata": {
        "id": "GVPm7SkBP0k3"
      }
    },
    {
      "cell_type": "code",
      "source": [
        "# plot x over time\n",
        "plt.plot(X_train['tsDate'], X_train['x'])\n",
        "plt.gcf().autofmt_xdate()\n",
        "plt.show()\n"
      ],
      "metadata": {
        "colab": {
          "base_uri": "https://localhost:8080/",
          "height": 265
        },
        "id": "JpoVKALyNkGp",
        "outputId": "795fa1ce-2896-4523-d1fe-bb650fd55435"
      },
      "execution_count": null,
      "outputs": [
        {
          "output_type": "display_data",
          "data": {
            "text/plain": [
              "<Figure size 432x288 with 1 Axes>"
            ],
            "image/png": "[encoded data removed]"
          },
          "metadata": {
            "needs_background": "light"
          }
        }
      ]
    },
    {
      "cell_type": "markdown",
      "source": [
        "## Y over time"
      ],
      "metadata": {
        "id": "bQCfXAD2P5wA"
      }
    },
    {
      "cell_type": "code",
      "source": [
        "# plot x over time\n",
        "plt.plot(X_train['tsDate'], X_train['y'])\n",
        "plt.gcf().autofmt_xdate()\n",
        "plt.show()"
      ],
      "metadata": {
        "colab": {
          "base_uri": "https://localhost:8080/",
          "height": 265
        },
        "id": "-FSCPRmtP9AJ",
        "outputId": "e79566b4-b094-444f-9f26-16a21527e15a"
      },
      "execution_count": null,
      "outputs": [
        {
          "output_type": "display_data",
          "data": {
            "text/plain": [
              "<Figure size 432x288 with 1 Axes>"
            ],
            "image/png": "[encoded data removed]"
          },
          "metadata": {
            "needs_background": "light"
          }
        }
      ]
    },
    {
      "cell_type": "markdown",
      "source": [
        "## Z over time"
      ],
      "metadata": {
        "id": "QFtYQrLug2uE"
      }
    },
    {
      "cell_type": "code",
      "source": [
        "plt.plot(X_train['tsDate'], X_train['z'])\n",
        "plt.gcf().autofmt_xdate()\n",
        "plt.show()"
      ],
      "metadata": {
        "colab": {
          "base_uri": "https://localhost:8080/",
          "height": 265
        },
        "id": "Bvoe7Qz-SHiX",
        "outputId": "d18a0d46-3e22-4192-e400-93b075fd3329"
      },
      "execution_count": null,
      "outputs": [
        {
          "output_type": "display_data",
          "data": {
            "text/plain": [
              "<Figure size 432x288 with 1 Axes>"
            ],
            "image/png": "[encoded data removed]"
          },
          "metadata": {
            "needs_background": "light"
          }
        }
      ]
    },
    {
      "cell_type": "markdown",
      "source": [
        "## Heart Rate over time"
      ],
      "metadata": {
        "id": "gBpmXY3-g60G"
      }
    },
    {
      "cell_type": "code",
      "source": [
        "# plot x over time\n",
        "plt.plot(X_train['tsDate'], X_train['heartRate'])\n",
        "plt.gcf().autofmt_xdate()\n",
        "plt.show()"
      ],
      "metadata": {
        "colab": {
          "base_uri": "https://localhost:8080/",
          "height": 265
        },
        "id": "FhXWCL3sSRX9",
        "outputId": "a1085ef3-02d1-4fcb-85b2-2e768bf7afac"
      },
      "execution_count": null,
      "outputs": [
        {
          "output_type": "display_data",
          "data": {
            "text/plain": [
              "<Figure size 432x288 with 1 Axes>"
            ],
            "image/png": "[encoded data removed]"
          },
          "metadata": {
            "needs_background": "light"
          }
        }
      ]
    },
    {
      "cell_type": "markdown",
      "source": [
        "# New Section"
      ],
      "metadata": {
        "id": "84s6xInbqGmd"
      }
    },
    {
      "cell_type": "code",
      "source": [
        "a = train.drop(['tsDate', 'patient'], axis=1)\n",
        "a"
      ],
      "metadata": {
        "id": "IUDnFs1SqjCF"
      },
      "execution_count": null,
      "outputs": []
    },
    {
      "cell_type": "code",
      "source": [
        "X_train"
      ],
      "metadata": {
        "id": "XBDvjB9wuDX-"
      },
      "execution_count": null,
      "outputs": []
    },
    {
      "cell_type": "code",
      "source": [
        "def split(data, win_size=30, win_shift=6, offset=1):\n",
        "  \n",
        "  data = data.drop(['tsDate', 'patient'], axis=1)\n",
        "  rows = np.arange(win_size, len(data) - win_shift- 1, win_shift)\n",
        "  \n",
        "  samples = np.zeros((len(rows), win_size, data.shape[-1]))\n",
        "  \n",
        "  targets = np.zeros((len(rows), data.shape[-1]))\n",
        "  \n",
        "  for j, row in enumerate(rows):\n",
        "    samples[j] = data[j * win_shift: row]\n",
        "    targets[j] = data[row: row + offset]\n",
        "   \n",
        "  return samples, targets"
      ],
      "metadata": {
        "id": "jH5aIu48hBio"
      },
      "execution_count": null,
      "outputs": []
    },
    {
      "cell_type": "code",
      "source": [
        "\n"
      ],
      "metadata": {
        "id": "2T_LC_fOAkpy"
      },
      "execution_count": null,
      "outputs": []
    },
    {
      "cell_type": "code",
      "source": [
        "n_past = 30\n",
        "n_future = 30\n",
        "n_features = 5\n",
        "\n",
        "x_train, y_train = split(train,n_past, n_future)\n",
        "# X_train = X_train.reshape((X_train.shape[0], X_train.shape[1], n_features))\n",
        "# y_train = y_train.reshape((y_train.shape[0], y_train.shape[1], n_features))\n",
        "\n",
        "x_val, y_val = split(val, n_past, n_future)\n",
        "# X_val = X_val.reshape((X_val.shape[0], X_val.shape[1], n_features))\n",
        "# y_val = y_val.reshape((y_val.shape[0], y_val.shape[1], n_features))\n",
        "\n",
        "x_test, y_test = split(test,n_past, n_future)\n",
        "# X_test = X_test.reshape((X_test.shape[0], X_test.shape[1],n_features))\n",
        "# y_test = y_test.reshape((y_test.shape[0], y_test.shape[1], n_features))"
      ],
      "metadata": {
        "id": "yvO1z0Y5qSNP"
      },
      "execution_count": null,
      "outputs": []
    },
    {
      "cell_type": "code",
      "source": [
        "x_train.shape, y_train.shape"
      ],
      "metadata": {
        "colab": {
          "base_uri": "https://localhost:8080/"
        },
        "id": "V2iBUk8vcqfq",
        "outputId": "a916572e-d23f-401d-a137-d2d9f9a4c849"
      },
      "execution_count": null,
      "outputs": [
        {
          "output_type": "execute_result",
          "data": {
            "text/plain": [
              "((2272, 30, 5), (2272, 5))"
            ]
          },
          "metadata": {},
          "execution_count": 75
        }
      ]
    },
    {
      "cell_type": "markdown",
      "source": [
        "# Modeling"
      ],
      "metadata": {
        "id": "EDTYFmyJu2S2"
      }
    },
    {
      "cell_type": "code",
      "source": [
        "import numpy as np\n",
        "from keras.models import Sequential\n",
        "from keras.layers import LSTM, Input, Dropout\n",
        "from keras.layers import Dense\n",
        "from keras.layers import RepeatVector\n",
        "from keras.layers import TimeDistributed\n",
        "import pandas as pd\n",
        "from matplotlib import pyplot as plt\n",
        "from sklearn.preprocessing import MinMaxScaler, StandardScaler\n",
        "from keras.models import Model\n",
        "import seaborn as sns\n"
      ],
      "metadata": {
        "id": "tzZdMuUTuas7"
      },
      "execution_count": null,
      "outputs": []
    },
    {
      "cell_type": "code",
      "source": [
        "x_train.shape"
      ],
      "metadata": {
        "colab": {
          "base_uri": "https://localhost:8080/"
        },
        "id": "dPHe-c1cezLm",
        "outputId": "9fd21e89-9c7f-4f2d-b348-cf621dbeb7d8"
      },
      "execution_count": null,
      "outputs": [
        {
          "output_type": "execute_result",
          "data": {
            "text/plain": [
              "(2271, 60, 5)"
            ]
          },
          "metadata": {},
          "execution_count": 73
        }
      ]
    },
    {
      "cell_type": "markdown",
      "source": [
        "## Model 1"
      ],
      "metadata": {
        "id": "99DqcTojvjx0"
      }
    },
    {
      "cell_type": "code",
      "source": [
        "model = Sequential()\n",
        "model.add(LSTM(16, activation='relu', input_shape=(x_train.shape[1], x_train.shape[2]), return_sequences=True))\n",
        "model.add(LSTM(8, activation='relu', return_sequences=False))\n",
        "model.add(RepeatVector(x_train.shape[1]))\n",
        "model.add(LSTM(8, activation='relu', return_sequences=True))\n",
        "model.add(LSTM(16, activation='relu', return_sequences=True))\n",
        "model.add(TimeDistributed(Dense(x_train.shape[2])))\n",
        "\n",
        "model.compile(optimizer='adam', loss='mse')\n",
        "model.summary()"
      ],
      "metadata": {
        "colab": {
          "base_uri": "https://localhost:8080/"
        },
        "id": "w17IosguvbAg",
        "outputId": "42787635-6f7e-4768-e23b-dd22aa11941b"
      },
      "execution_count": null,
      "outputs": [
        {
          "output_type": "stream",
          "name": "stdout",
          "text": [
            "Model: \"sequential_6\"\n",
            "_________________________________________________________________\n",
            " Layer (type)                Output Shape              Param #   \n",
            "=================================================================\n",
            " lstm_26 (LSTM)              (None, 30, 16)            1408      \n",
            "                                                                 \n",
            " lstm_27 (LSTM)              (None, 8)                 800       \n",
            "                                                                 \n",
            " repeat_vector_7 (RepeatVect  (None, 30, 8)            0         \n",
            " or)                                                             \n",
            "                                                                 \n",
            " lstm_28 (LSTM)              (None, 30, 8)             544       \n",
            "                                                                 \n",
            " lstm_29 (LSTM)              (None, 30, 16)            1600      \n",
            "                                                                 \n",
            " time_distributed_7 (TimeDis  (None, 30, 5)            85        \n",
            " tributed)                                                       \n",
            "                                                                 \n",
            "=================================================================\n",
            "Total params: 4,437\n",
            "Trainable params: 4,437\n",
            "Non-trainable params: 0\n",
            "_________________________________________________________________\n"
          ]
        }
      ]
    },
    {
      "cell_type": "code",
      "source": [
        "history = model.fit(x_train, y_train, epochs=10, batch_size=32, validation_split=0.1, verbose=1, shuffle=False)"
      ],
      "metadata": {
        "colab": {
          "base_uri": "https://localhost:8080/",
          "height": 1000
        },
        "id": "H0girxMueRRL",
        "outputId": "4edece3c-6bae-4a6d-cf92-5ef2b68e547e"
      },
      "execution_count": null,
      "outputs": [
        {
          "metadata": {
            "tags": null
          },
          "name": "stdout",
          "output_type": "stream",
          "text": [
            "Epoch 1/10\n"
          ]
        },
        {
          "output_type": "error",
          "ename": "InvalidArgumentError",
          "evalue": "ignored",
          "traceback": [
            "\u001b[0;31m---------------------------------------------------------------------------\u001b[0m",
            "\u001b[0;31mInvalidArgumentError\u001b[0m                      Traceback (most recent call last)",
            "\u001b[0;32m<ipython-input-77-882ddf349124>\u001b[0m in \u001b[0;36m<module>\u001b[0;34m()\u001b[0m\n\u001b[0;32m----> 1\u001b[0;31m \u001b[0mhistory\u001b[0m \u001b[0;34m=\u001b[0m \u001b[0mmodel\u001b[0m\u001b[0;34m.\u001b[0m\u001b[0mfit\u001b[0m\u001b[0;34m(\u001b[0m\u001b[0mx_train\u001b[0m\u001b[0;34m,\u001b[0m \u001b[0my_train\u001b[0m\u001b[0;34m,\u001b[0m \u001b[0mepochs\u001b[0m\u001b[0;34m=\u001b[0m\u001b[0;36m10\u001b[0m\u001b[0;34m,\u001b[0m \u001b[0mbatch_size\u001b[0m\u001b[0;34m=\u001b[0m\u001b[0;36m32\u001b[0m\u001b[0;34m,\u001b[0m \u001b[0mvalidation_split\u001b[0m\u001b[0;34m=\u001b[0m\u001b[0;36m0.1\u001b[0m\u001b[0;34m,\u001b[0m \u001b[0mverbose\u001b[0m\u001b[0;34m=\u001b[0m\u001b[0;36m1\u001b[0m\u001b[0;34m,\u001b[0m \u001b[0mshuffle\u001b[0m\u001b[0;34m=\u001b[0m\u001b[0;32mFalse\u001b[0m\u001b[0;34m)\u001b[0m\u001b[0;34m\u001b[0m\u001b[0;34m\u001b[0m\u001b[0m\n\u001b[0m",
            "\u001b[0;32m/usr/local/lib/python3.7/dist-packages/keras/utils/traceback_utils.py\u001b[0m in \u001b[0;36merror_handler\u001b[0;34m(*args, **kwargs)\u001b[0m\n\u001b[1;32m     65\u001b[0m     \u001b[0;32mexcept\u001b[0m \u001b[0mException\u001b[0m \u001b[0;32mas\u001b[0m \u001b[0me\u001b[0m\u001b[0;34m:\u001b[0m  \u001b[0;31m# pylint: disable=broad-except\u001b[0m\u001b[0;34m\u001b[0m\u001b[0;34m\u001b[0m\u001b[0m\n\u001b[1;32m     66\u001b[0m       \u001b[0mfiltered_tb\u001b[0m \u001b[0;34m=\u001b[0m \u001b[0m_process_traceback_frames\u001b[0m\u001b[0;34m(\u001b[0m\u001b[0me\u001b[0m\u001b[0;34m.\u001b[0m\u001b[0m__traceback__\u001b[0m\u001b[0;34m)\u001b[0m\u001b[0;34m\u001b[0m\u001b[0;34m\u001b[0m\u001b[0m\n\u001b[0;32m---> 67\u001b[0;31m       \u001b[0;32mraise\u001b[0m \u001b[0me\u001b[0m\u001b[0;34m.\u001b[0m\u001b[0mwith_traceback\u001b[0m\u001b[0;34m(\u001b[0m\u001b[0mfiltered_tb\u001b[0m\u001b[0;34m)\u001b[0m \u001b[0;32mfrom\u001b[0m \u001b[0;32mNone\u001b[0m\u001b[0;34m\u001b[0m\u001b[0;34m\u001b[0m\u001b[0m\n\u001b[0m\u001b[1;32m     68\u001b[0m     \u001b[0;32mfinally\u001b[0m\u001b[0;34m:\u001b[0m\u001b[0;34m\u001b[0m\u001b[0;34m\u001b[0m\u001b[0m\n\u001b[1;32m     69\u001b[0m       \u001b[0;32mdel\u001b[0m \u001b[0mfiltered_tb\u001b[0m\u001b[0;34m\u001b[0m\u001b[0;34m\u001b[0m\u001b[0m\n",
            "\u001b[0;32m/usr/local/lib/python3.7/dist-packages/tensorflow/python/eager/execute.py\u001b[0m in \u001b[0;36mquick_execute\u001b[0;34m(op_name, num_outputs, inputs, attrs, ctx, name)\u001b[0m\n\u001b[1;32m     53\u001b[0m     \u001b[0mctx\u001b[0m\u001b[0;34m.\u001b[0m\u001b[0mensure_initialized\u001b[0m\u001b[0;34m(\u001b[0m\u001b[0;34m)\u001b[0m\u001b[0;34m\u001b[0m\u001b[0;34m\u001b[0m\u001b[0m\n\u001b[1;32m     54\u001b[0m     tensors = pywrap_tfe.TFE_Py_Execute(ctx._handle, device_name, op_name,\n\u001b[0;32m---> 55\u001b[0;31m                                         inputs, attrs, num_outputs)\n\u001b[0m\u001b[1;32m     56\u001b[0m   \u001b[0;32mexcept\u001b[0m \u001b[0mcore\u001b[0m\u001b[0;34m.\u001b[0m\u001b[0m_NotOkStatusException\u001b[0m \u001b[0;32mas\u001b[0m \u001b[0me\u001b[0m\u001b[0;34m:\u001b[0m\u001b[0;34m\u001b[0m\u001b[0;34m\u001b[0m\u001b[0m\n\u001b[1;32m     57\u001b[0m     \u001b[0;32mif\u001b[0m \u001b[0mname\u001b[0m \u001b[0;32mis\u001b[0m \u001b[0;32mnot\u001b[0m \u001b[0;32mNone\u001b[0m\u001b[0;34m:\u001b[0m\u001b[0;34m\u001b[0m\u001b[0;34m\u001b[0m\u001b[0m\n",
            "\u001b[0;31mInvalidArgumentError\u001b[0m: Graph execution error:\n\nDetected at node 'gradient_tape/mean_squared_error/BroadcastGradientArgs' defined at (most recent call last):\n    File \"/usr/lib/python3.7/runpy.py\", line 193, in _run_module_as_main\n      \"__main__\", mod_spec)\n    File \"/usr/lib/python3.7/runpy.py\", line 85, in _run_code\n      exec(code, run_globals)\n    File \"/usr/local/lib/python3.7/dist-packages/ipykernel_launcher.py\", line 16, in <module>\n      app.launch_new_instance()\n    File \"/usr/local/lib/python3.7/dist-packages/traitlets/config/application.py\", line 846, in launch_instance\n      app.start()\n    File \"/usr/local/lib/python3.7/dist-packages/ipykernel/kernelapp.py\", line 499, in start\n      self.io_loop.start()\n    File \"/usr/local/lib/python3.7/dist-packages/tornado/platform/asyncio.py\", line 132, in start\n      self.asyncio_loop.run_forever()\n    File \"/usr/lib/python3.7/asyncio/base_events.py\", line 541, in run_forever\n      self._run_once()\n    File \"/usr/lib/python3.7/asyncio/base_events.py\", line 1786, in _run_once\n      handle._run()\n    File \"/usr/lib/python3.7/asyncio/events.py\", line 88, in _run\n      self._context.run(self._callback, *self._args)\n    File \"/usr/local/lib/python3.7/dist-packages/tornado/platform/asyncio.py\", line 122, in _handle_events\n      handler_func(fileobj, events)\n    File \"/usr/local/lib/python3.7/dist-packages/tornado/stack_context.py\", line 300, in null_wrapper\n      return fn(*args, **kwargs)\n    File \"/usr/local/lib/python3.7/dist-packages/zmq/eventloop/zmqstream.py\", line 577, in _handle_events\n      self._handle_recv()\n    File \"/usr/local/lib/python3.7/dist-packages/zmq/eventloop/zmqstream.py\", line 606, in _handle_recv\n      self._run_callback(callback, msg)\n    File \"/usr/local/lib/python3.7/dist-packages/zmq/eventloop/zmqstream.py\", line 556, in _run_callback\n      callback(*args, **kwargs)\n    File \"/usr/local/lib/python3.7/dist-packages/tornado/stack_context.py\", line 300, in null_wrapper\n      return fn(*args, **kwargs)\n    File \"/usr/local/lib/python3.7/dist-packages/ipykernel/kernelbase.py\", line 283, in dispatcher\n      return self.dispatch_shell(stream, msg)\n    File \"/usr/local/lib/python3.7/dist-packages/ipykernel/kernelbase.py\", line 233, in dispatch_shell\n      handler(stream, idents, msg)\n    File \"/usr/local/lib/python3.7/dist-packages/ipykernel/kernelbase.py\", line 399, in execute_request\n      user_expressions, allow_stdin)\n    File \"/usr/local/lib/python3.7/dist-packages/ipykernel/ipkernel.py\", line 208, in do_execute\n      res = shell.run_cell(code, store_history=store_history, silent=silent)\n    File \"/usr/local/lib/python3.7/dist-packages/ipykernel/zmqshell.py\", line 537, in run_cell\n      return super(ZMQInteractiveShell, self).run_cell(*args, **kwargs)\n    File \"/usr/local/lib/python3.7/dist-packages/IPython/core/interactiveshell.py\", line 2718, in run_cell\n      interactivity=interactivity, compiler=compiler, result=result)\n    File \"/usr/local/lib/python3.7/dist-packages/IPython/core/interactiveshell.py\", line 2822, in run_ast_nodes\n      if self.run_code(code, result):\n    File \"/usr/local/lib/python3.7/dist-packages/IPython/core/interactiveshell.py\", line 2882, in run_code\n      exec(code_obj, self.user_global_ns, self.user_ns)\n    File \"<ipython-input-77-882ddf349124>\", line 1, in <module>\n      history = model.fit(x_train, y_train, epochs=10, batch_size=32, validation_split=0.1, verbose=1, shuffle=False)\n    File \"/usr/local/lib/python3.7/dist-packages/keras/utils/traceback_utils.py\", line 64, in error_handler\n      return fn(*args, **kwargs)\n    File \"/usr/local/lib/python3.7/dist-packages/keras/engine/training.py\", line 1384, in fit\n      tmp_logs = self.train_function(iterator)\n    File \"/usr/local/lib/python3.7/dist-packages/keras/engine/training.py\", line 1021, in train_function\n      return step_function(self, iterator)\n    File \"/usr/local/lib/python3.7/dist-packages/keras/engine/training.py\", line 1010, in step_function\n      outputs = model.distribute_strategy.run(run_step, args=(data,))\n    File \"/usr/local/lib/python3.7/dist-packages/keras/engine/training.py\", line 1000, in run_step\n      outputs = model.train_step(data)\n    File \"/usr/local/lib/python3.7/dist-packages/keras/engine/training.py\", line 863, in train_step\n      self.optimizer.minimize(loss, self.trainable_variables, tape=tape)\n    File \"/usr/local/lib/python3.7/dist-packages/keras/optimizer_v2/optimizer_v2.py\", line 531, in minimize\n      loss, var_list=var_list, grad_loss=grad_loss, tape=tape)\n    File \"/usr/local/lib/python3.7/dist-packages/keras/optimizer_v2/optimizer_v2.py\", line 583, in _compute_gradients\n      grads_and_vars = self._get_gradients(tape, loss, var_list, grad_loss)\n    File \"/usr/local/lib/python3.7/dist-packages/keras/optimizer_v2/optimizer_v2.py\", line 464, in _get_gradients\n      grads = tape.gradient(loss, var_list, grad_loss)\nNode: 'gradient_tape/mean_squared_error/BroadcastGradientArgs'\nIncompatible shapes: [32,30,5] vs. [32,5]\n\t [[{{node gradient_tape/mean_squared_error/BroadcastGradientArgs}}]] [Op:__inference_train_function_37914]"
          ]
        }
      ]
    },
    {
      "cell_type": "markdown",
      "source": [
        "# New"
      ],
      "metadata": {
        "id": "1_VuQTB5kRgs"
      }
    },
    {
      "cell_type": "code",
      "source": [
        "import os\n",
        "import datetime\n",
        "\n",
        "import IPython\n",
        "import IPython.display\n",
        "import matplotlib as mpl\n",
        "import matplotlib.pyplot as plt\n",
        "import numpy as np\n",
        "import pandas as pd\n",
        "import seaborn as sns\n",
        "import tensorflow as tf\n",
        "\n",
        "mpl.rcParams['figure.figsize'] = (8, 6)\n",
        "mpl.rcParams['axes.grid'] = False"
      ],
      "metadata": {
        "id": "88iJSD_mqLli"
      },
      "execution_count": 1,
      "outputs": []
    },
    {
      "cell_type": "code",
      "source": [
        "data = pd.read_csv('/content/drive/MyDrive/Deep Learning/Project/Task-2/ad_train.csv')\n",
        "data_test = pd.read_csv('/content/drive/MyDrive/Deep Learning/Project/Task-2/ad_test.csv')\n",
        "\n",
        "data = data[1:167885]  ## records for patient 1502 and 1503\n",
        "data = data.drop(['tsDate', 'patient'], axis = 1)\n",
        "data_test = data_test.drop(['tsDate', 'patient'], axis = 1)\n",
        "n = len(data)\n",
        "\n",
        "train_df = data[0:int(n*0.8)]\n",
        "val_df = data[int(n*0.8):]\n",
        "test_df = data_test"
      ],
      "metadata": {
        "id": "SWxc3wLxkS7v"
      },
      "execution_count": 2,
      "outputs": []
    },
    {
      "cell_type": "code",
      "source": [
        "\n",
        "from sklearn.preprocessing import MinMaxScaler\n",
        "\n",
        "train = train_df\n",
        "scalers={}\n",
        "\n",
        "for i in train_df.columns:\n",
        "    scaler = MinMaxScaler(feature_range=(-1,1))\n",
        "    s_s = scaler.fit_transform(train[i].values.reshape(-1,1))\n",
        "    s_s=np.reshape(s_s,len(s_s))\n",
        "    scalers['scaler_'+ i] = scaler\n",
        "    train[i]=s_s\n",
        "\n",
        "val = val_df\n",
        "for i in train_df.columns:\n",
        "    scaler = scalers['scaler_'+i]\n",
        "    s_s = scaler.transform(val[i].values.reshape(-1,1))\n",
        "    s_s=np.reshape(s_s,len(s_s))\n",
        "    scalers['scaler_'+i] = scaler\n",
        "    val[i]=s_s\n",
        "\n",
        "test = test_df\n",
        "for i in train_df.columns:\n",
        "    scaler = scalers['scaler_'+i]\n",
        "    s_s = scaler.transform(test[i].values.reshape(-1,1))\n",
        "    s_s=np.reshape(s_s,len(s_s))\n",
        "    scalers['scaler_'+i] = scaler\n",
        "    test[i]=s_s"
      ],
      "metadata": {
        "id": "IzM4VOpCki23"
      },
      "execution_count": null,
      "outputs": []
    },
    {
      "cell_type": "code",
      "source": [
        "n_past = 60\n",
        "n_future = 60\n",
        "n_features = 5\n",
        "\n",
        "def split_series(series, n_past, n_future):\n",
        "  X, y = list(), list()\n",
        "  for window_start in range(len(series)):\n",
        "    past_end = window_start + n_past\n",
        "    future_end = past_end + n_future\n",
        "    if future_end > len(series):\n",
        "      break\n",
        "    past, future = series[window_start:past_end, :], series[past_end:future_end, :]\n",
        "    X.append(past)\n",
        "    y.append(future)\n",
        "  return np.array(X), np.array(y)"
      ],
      "metadata": {
        "id": "f6iTRAK1k27O"
      },
      "execution_count": 6,
      "outputs": []
    },
    {
      "cell_type": "code",
      "source": [
        "X_train, y_train = split_series(train.values,n_past, n_future)\n",
        "X_train = X_train.reshape((X_train.shape[0], X_train.shape[1], n_features))\n",
        "y_train = y_train.reshape((y_train.shape[0], y_train.shape[1], n_features))\n",
        "\n",
        "X_val, y_val = split_series(val.values, n_past, n_future)\n",
        "X_val = X_val.reshape((X_val.shape[0], X_val.shape[1], n_features))\n",
        "y_val = y_val.reshape((y_val.shape[0], y_val.shape[1], n_features))\n",
        "\n",
        "X_test, y_test = split_series(test.values,n_past, n_future)\n",
        "X_test = X_test.reshape((X_test.shape[0], X_test.shape[1],n_features))\n",
        "y_test = y_test.reshape((y_test.shape[0], y_test.shape[1], n_features))"
      ],
      "metadata": {
        "id": "vq4ETgiBlB6g"
      },
      "execution_count": 7,
      "outputs": []
    },
    {
      "cell_type": "code",
      "source": [
        "encoder_inputs = tf.keras.layers.Input(shape=(n_past, n_features))\n",
        "encoder_l1 = tf.keras.layers.LSTM(16, return_state=True, activation='tanh')\n",
        "encoder_outputs1 = encoder_l1(encoder_inputs)\n",
        "encoder_states1 = encoder_outputs1[1:]\n",
        "#\n",
        "decoder_inputs = tf.keras.layers.RepeatVector(n_future)(encoder_outputs1[0])\n",
        "#\n",
        "decoder_l1 = tf.keras.layers.LSTM(16, return_sequences=True, activation='tanh')(decoder_inputs,initial_state = encoder_states1)\n",
        "decoder_outputs1 = tf.keras.layers.TimeDistributed(tf.keras.layers.Dense(n_features))(decoder_l1)\n",
        "#\n",
        "model_e1d1 = tf.keras.models.Model(encoder_inputs,decoder_outputs1)\n",
        "#\n",
        "model_e1d1.summary()"
      ],
      "metadata": {
        "colab": {
          "base_uri": "https://localhost:8080/"
        },
        "id": "njlbdfBHlUXL",
        "outputId": "d51a8ce4-708c-402a-910f-ccd7948ad45a"
      },
      "execution_count": 8,
      "outputs": [
        {
          "output_type": "stream",
          "name": "stdout",
          "text": [
            "Model: \"model\"\n",
            "__________________________________________________________________________________________________\n",
            " Layer (type)                   Output Shape         Param #     Connected to                     \n",
            "==================================================================================================\n",
            " input_1 (InputLayer)           [(None, 60, 5)]      0           []                               \n",
            "                                                                                                  \n",
            " lstm (LSTM)                    [(None, 16),         1408        ['input_1[0][0]']                \n",
            "                                 (None, 16),                                                      \n",
            "                                 (None, 16)]                                                      \n",
            "                                                                                                  \n",
            " repeat_vector (RepeatVector)   (None, 60, 16)       0           ['lstm[0][0]']                   \n",
            "                                                                                                  \n",
            " lstm_1 (LSTM)                  (None, 60, 16)       2112        ['repeat_vector[0][0]',          \n",
            "                                                                  'lstm[0][1]',                   \n",
            "                                                                  'lstm[0][2]']                   \n",
            "                                                                                                  \n",
            " time_distributed (TimeDistribu  (None, 60, 5)       85          ['lstm_1[0][0]']                 \n",
            " ted)                                                                                             \n",
            "                                                                                                  \n",
            "==================================================================================================\n",
            "Total params: 3,605\n",
            "Trainable params: 3,605\n",
            "Non-trainable params: 0\n",
            "__________________________________________________________________________________________________\n"
          ]
        }
      ]
    },
    {
      "cell_type": "code",
      "source": [
        "reduce_lr = tf.keras.callbacks.LearningRateScheduler(lambda x: 1e-3 * 0.90 ** x)\n",
        "\n",
        "model_e1d1.compile(optimizer=tf.keras.optimizers.Adam(), loss=tf.keras.losses.MeanAbsoluteError())\n",
        "history_e1d1=model_e1d1.fit(X_train, y_train, epochs=5, validation_data=(X_val,y_val), batch_size=512, verbose=1, callbacks=[reduce_lr])"
      ],
      "metadata": {
        "colab": {
          "base_uri": "https://localhost:8080/"
        },
        "id": "XDDDVlR6laxr",
        "outputId": "778fb58c-25c7-4588-9b75-8131e58d5e72"
      },
      "execution_count": 9,
      "outputs": [
        {
          "output_type": "stream",
          "name": "stdout",
          "text": [
            "Epoch 1/5\n",
            "263/263 [==============================] - 31s 104ms/step - loss: 0.1605 - val_loss: 0.1284 - lr: 0.0010\n",
            "Epoch 2/5\n",
            "263/263 [==============================] - 26s 99ms/step - loss: 0.0872 - val_loss: 0.1028 - lr: 9.0000e-04\n",
            "Epoch 3/5\n",
            "263/263 [==============================] - 26s 99ms/step - loss: 0.0831 - val_loss: 0.0936 - lr: 8.1000e-04\n",
            "Epoch 4/5\n",
            "263/263 [==============================] - 26s 100ms/step - loss: 0.0813 - val_loss: 0.0891 - lr: 7.2900e-04\n",
            "Epoch 5/5\n",
            "263/263 [==============================] - 26s 99ms/step - loss: 0.0804 - val_loss: 0.0865 - lr: 6.5610e-04\n"
          ]
        }
      ]
    },
    {
      "cell_type": "code",
      "source": [
        "trainPredict = model_e1d1.predict(X_train)\n",
        "  #or Define 90% value of max as threshold."
      ],
      "metadata": {
        "id": "cHG7NpVBmUdL"
      },
      "execution_count": 10,
      "outputs": []
    },
    {
      "cell_type": "code",
      "source": [
        "trainMAE = np.mean(np.abs(trainPredict - X_train), axis=1)\n",
        "plt.hist(trainMAE, bins=60)\n",
        "max_trainMAE = 0.5"
      ],
      "metadata": {
        "colab": {
          "base_uri": "https://localhost:8080/",
          "height": 265
        },
        "id": "rCuqB-Yc2ZtS",
        "outputId": "138acf15-1235-402c-9bcd-b1e550dc30ec"
      },
      "execution_count": 12,
      "outputs": [
        {
          "output_type": "display_data",
          "data": {
            "text/plain": [
              "<Figure size 432x288 with 1 Axes>"
            ],
            "image/png": "[encoded data removed]"
          },
          "metadata": {
            "needs_background": "light"
          }
        }
      ]
    },
    {
      "cell_type": "code",
      "source": [
        "testPredict = model_e1d1.predict(X_test)\n"
      ],
      "metadata": {
        "id": "FxjokI_YnyLI"
      },
      "execution_count": 14,
      "outputs": []
    },
    {
      "cell_type": "code",
      "source": [
        "testMAE = np.mean(np.abs(testPredict - X_test), axis=1)\n",
        "plt.hist(testMAE, bins=60)"
      ],
      "metadata": {
        "id": "22ixwgX81tP8"
      },
      "execution_count": null,
      "outputs": []
    },
    {
      "cell_type": "code",
      "source": [
        "import numpy as np\n",
        "from keras.models import Sequential\n",
        "from keras.layers import LSTM, Input, Dropout\n",
        "from keras.layers import Dense\n",
        "from keras.layers import RepeatVector\n",
        "from keras.layers import TimeDistributed\n",
        "import pandas as pd\n",
        "from matplotlib import pyplot as plt\n",
        "from sklearn.preprocessing import MinMaxScaler, StandardScaler\n",
        "from keras.models import Model\n",
        "import seaborn as sns\n",
        "\n",
        "model = Sequential()\n",
        "model.add(LSTM(16, activation='tanh', input_shape=(X_train.shape[1], X_train.shape[2]), return_sequences=True))\n",
        "model.add(LSTM(8, activation='tanh', return_sequences=False))\n",
        "model.add(RepeatVector(X_train.shape[1]))\n",
        "model.add(LSTM(8, activation='tanh', return_sequences=True))\n",
        "model.add(LSTM(16, activation='tanh', return_sequences=True))\n",
        "model.add(TimeDistributed(Dense(X_train.shape[2])))\n",
        "\n",
        "model.compile(optimizer='adam', loss='mse')\n",
        "model.summary()"
      ],
      "metadata": {
        "colab": {
          "base_uri": "https://localhost:8080/"
        },
        "id": "yQBj08hI9ggZ",
        "outputId": "41786c96-daab-41d7-8b91-7cd71682a182"
      },
      "execution_count": 30,
      "outputs": [
        {
          "output_type": "stream",
          "name": "stdout",
          "text": [
            "Model: \"sequential_3\"\n",
            "_________________________________________________________________\n",
            " Layer (type)                Output Shape              Param #   \n",
            "=================================================================\n",
            " lstm_14 (LSTM)              (None, 60, 16)            1408      \n",
            "                                                                 \n",
            " lstm_15 (LSTM)              (None, 8)                 800       \n",
            "                                                                 \n",
            " repeat_vector_4 (RepeatVect  (None, 60, 8)            0         \n",
            " or)                                                             \n",
            "                                                                 \n",
            " lstm_16 (LSTM)              (None, 60, 8)             544       \n",
            "                                                                 \n",
            " lstm_17 (LSTM)              (None, 60, 16)            1600      \n",
            "                                                                 \n",
            " time_distributed_4 (TimeDis  (None, 60, 5)            85        \n",
            " tributed)                                                       \n",
            "                                                                 \n",
            "=================================================================\n",
            "Total params: 4,437\n",
            "Trainable params: 4,437\n",
            "Non-trainable params: 0\n",
            "_________________________________________________________________\n"
          ]
        }
      ]
    },
    {
      "cell_type": "code",
      "source": [
        "history = model.fit(X_train, y_train, epochs=5, validation_data=(X_val,y_val), batch_size=512, verbose=1)"
      ],
      "metadata": {
        "colab": {
          "base_uri": "https://localhost:8080/"
        },
        "id": "o-z_Z2Or_Jv_",
        "outputId": "7629bce9-b680-4ea3-f955-025fedf80983"
      },
      "execution_count": 31,
      "outputs": [
        {
          "output_type": "stream",
          "name": "stdout",
          "text": [
            "Epoch 1/5\n",
            "263/263 [==============================] - 55s 181ms/step - loss: 0.0748 - val_loss: 0.0621\n",
            "Epoch 2/5\n",
            "263/263 [==============================] - 49s 186ms/step - loss: 0.0402 - val_loss: 0.0526\n",
            "Epoch 3/5\n",
            "263/263 [==============================] - 53s 202ms/step - loss: 0.0354 - val_loss: 0.0496\n",
            "Epoch 4/5\n",
            "263/263 [==============================] - 47s 178ms/step - loss: 0.0332 - val_loss: 0.0475\n",
            "Epoch 5/5\n",
            "263/263 [==============================] - 46s 176ms/step - loss: 0.0319 - val_loss: 0.0435\n"
          ]
        }
      ]
    },
    {
      "cell_type": "code",
      "source": [
        "trainPredict2 = model.predict(X_train)"
      ],
      "metadata": {
        "id": "Btbfw3LEAQav"
      },
      "execution_count": 32,
      "outputs": []
    },
    {
      "cell_type": "code",
      "source": [
        "trainMAE2 = np.mean(np.abs(trainPredict - X_train), axis=1)\n",
        "plt.hist(trainMAE, bins=60)\n",
        "max_trainMAE2 = 0.5"
      ],
      "metadata": {
        "colab": {
          "base_uri": "https://localhost:8080/",
          "height": 265
        },
        "id": "D6Bb3HKlAVjH",
        "outputId": "37e34a33-f022-4341-9ba5-cee744720a61"
      },
      "execution_count": 34,
      "outputs": [
        {
          "output_type": "display_data",
          "data": {
            "text/plain": [
              "<Figure size 432x288 with 1 Axes>"
            ],
            "image/png": "[encoded data removed]"
          },
          "metadata": {
            "needs_background": "light"
          }
        }
      ]
    },
    {
      "cell_type": "code",
      "source": [
        "testPredict2 = model.predict(X_test)\n"
      ],
      "metadata": {
        "id": "xudRRJf2AYaZ"
      },
      "execution_count": 33,
      "outputs": []
    },
    {
      "cell_type": "code",
      "source": [
        "testMAE2 = np.mean(np.abs(testPredict - X_test), axis=1)\n",
        "plt.hist(testMAE, bins=60)"
      ],
      "metadata": {
        "colab": {
          "base_uri": "https://localhost:8080/",
          "height": 1000
        },
        "id": "RbI99C6iAg4Q",
        "outputId": "9cec5ffb-8d16-438e-f06e-2744abce2355"
      },
      "execution_count": 35,
      "outputs": [
        {
          "output_type": "execute_result",
          "data": {
            "text/plain": [
              "(array([[ 31856.,  12988.,  19520.,  16177.,  16902.,  20310.,  15697.,\n",
              "          14023.,  18909.,  18029.,  19845.,  19077.,  20844.,  16648.,\n",
              "          18174.,  16998.,  10095.,   9987.,  18735.,  17295.,  14367.,\n",
              "          11842.,  13130.,  15477.,   8967.,  11565.,  11468.,  11289.,\n",
              "          10992.,  14806.,  10161.,  10789.,  11488.,  14547.,  12451.,\n",
              "          12159.,  13503.,  10301.,  13752.,  13220.,  13472.,  15662.,\n",
              "          10980.,   6200.,   6396.,   7030.,   6042.,   4529.,   5576.,\n",
              "           3485.,   3105.,   5123.,   4757.,   3673.,   3446.,   3186.,\n",
              "           5014.,   5332.,   4888.,   6389.],\n",
              "        [720380.,   2288.,      0.,      0.,      0.,      0.,      0.,\n",
              "              0.,      0.,      0.,      0.,      0.,      0.,      0.,\n",
              "              0.,      0.,      0.,      0.,      0.,      0.,      0.,\n",
              "              0.,      0.,      0.,      0.,      0.,      0.,      0.,\n",
              "              0.,      0.,      0.,      0.,      0.,      0.,      0.,\n",
              "              0.,      0.,      0.,      0.,      0.,      0.,      0.,\n",
              "              0.,      0.,      0.,      0.,      0.,      0.,      0.,\n",
              "              0.,      0.,      0.,      0.,      0.,      0.,      0.,\n",
              "              0.,      0.,      0.,      0.],\n",
              "        [722668.,      0.,      0.,      0.,      0.,      0.,      0.,\n",
              "              0.,      0.,      0.,      0.,      0.,      0.,      0.,\n",
              "              0.,      0.,      0.,      0.,      0.,      0.,      0.,\n",
              "              0.,      0.,      0.,      0.,      0.,      0.,      0.,\n",
              "              0.,      0.,      0.,      0.,      0.,      0.,      0.,\n",
              "              0.,      0.,      0.,      0.,      0.,      0.,      0.,\n",
              "              0.,      0.,      0.,      0.,      0.,      0.,      0.,\n",
              "              0.,      0.,      0.,      0.,      0.,      0.,      0.,\n",
              "              0.,      0.,      0.,      0.],\n",
              "        [722668.,      0.,      0.,      0.,      0.,      0.,      0.,\n",
              "              0.,      0.,      0.,      0.,      0.,      0.,      0.,\n",
              "              0.,      0.,      0.,      0.,      0.,      0.,      0.,\n",
              "              0.,      0.,      0.,      0.,      0.,      0.,      0.,\n",
              "              0.,      0.,      0.,      0.,      0.,      0.,      0.,\n",
              "              0.,      0.,      0.,      0.,      0.,      0.,      0.,\n",
              "              0.,      0.,      0.,      0.,      0.,      0.,      0.,\n",
              "              0.,      0.,      0.,      0.,      0.,      0.,      0.,\n",
              "              0.,      0.,      0.,      0.],\n",
              "        [722668.,      0.,      0.,      0.,      0.,      0.,      0.,\n",
              "              0.,      0.,      0.,      0.,      0.,      0.,      0.,\n",
              "              0.,      0.,      0.,      0.,      0.,      0.,      0.,\n",
              "              0.,      0.,      0.,      0.,      0.,      0.,      0.,\n",
              "              0.,      0.,      0.,      0.,      0.,      0.,      0.,\n",
              "              0.,      0.,      0.,      0.,      0.,      0.,      0.,\n",
              "              0.,      0.,      0.,      0.,      0.,      0.,      0.,\n",
              "              0.,      0.,      0.,      0.,      0.,      0.,      0.,\n",
              "              0.,      0.,      0.,      0.]]),\n",
              " array([2.35429458e-03, 1.59693950e+00, 3.19152471e+00, 4.78610991e+00,\n",
              "        6.38069512e+00, 7.97528033e+00, 9.56986553e+00, 1.11644507e+01,\n",
              "        1.27590359e+01, 1.43536212e+01, 1.59482064e+01, 1.75427916e+01,\n",
              "        1.91373768e+01, 2.07319620e+01, 2.23265472e+01, 2.39211324e+01,\n",
              "        2.55157176e+01, 2.71103028e+01, 2.87048880e+01, 3.02994732e+01,\n",
              "        3.18940584e+01, 3.34886436e+01, 3.50832288e+01, 3.66778140e+01,\n",
              "        3.82723993e+01, 3.98669845e+01, 4.14615697e+01, 4.30561549e+01,\n",
              "        4.46507401e+01, 4.62453253e+01, 4.78399105e+01, 4.94344957e+01,\n",
              "        5.10290809e+01, 5.26236661e+01, 5.42182513e+01, 5.58128365e+01,\n",
              "        5.74074217e+01, 5.90020069e+01, 6.05965921e+01, 6.21911773e+01,\n",
              "        6.37857626e+01, 6.53803478e+01, 6.69749330e+01, 6.85695182e+01,\n",
              "        7.01641034e+01, 7.17586886e+01, 7.33532738e+01, 7.49478590e+01,\n",
              "        7.65424442e+01, 7.81370294e+01, 7.97316146e+01, 8.13261998e+01,\n",
              "        8.29207850e+01, 8.45153702e+01, 8.61099554e+01, 8.77045407e+01,\n",
              "        8.92991259e+01, 9.08937111e+01, 9.24882963e+01, 9.40828815e+01,\n",
              "        9.56774667e+01]),\n",
              " <a list of 5 Lists of Patches objects>)"
            ]
          },
          "metadata": {},
          "execution_count": 35
        },
        {
          "output_type": "display_data",
          "data": {
            "text/plain": [
              "<Figure size 432x288 with 1 Axes>"
            ],
            "image/png": "[encoded data removed]"
          },
          "metadata": {
            "needs_background": "light"
          }
        }
      ]
    }
  ]
}