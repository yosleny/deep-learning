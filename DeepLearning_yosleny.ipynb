{
  "nbformat": 4,
  "nbformat_minor": 0,
  "metadata": {
    "colab": {
      "name": "DeepLearning-yosleny.ipynb",
      "provenance": [],
      "collapsed_sections": [
        "OEaWNepbmdfL"
      ],
      "toc_visible": true
    },
    "kernelspec": {
      "name": "python3",
      "display_name": "Python 3"
    },
    "language_info": {
      "name": "python"
    }
  },
  "cells": [
    {
      "cell_type": "markdown",
      "source": [
        "# Setup the data"
      ],
      "metadata": {
        "id": "-GiydJvY3yXC"
      }
    },
    {
      "cell_type": "code",
      "source": [
        "from google.colab import drive\n",
        "drive.mount('/content/drive')"
      ],
      "metadata": {
        "colab": {
          "base_uri": "https://localhost:8080/"
        },
        "id": "t9cA7CPI34s0",
        "outputId": "6aa79c59-5fb0-496b-ba9d-63020ef318a3"
      },
      "execution_count": 1,
      "outputs": [
        {
          "output_type": "stream",
          "name": "stdout",
          "text": [
            "Mounted at /content/drive\n"
          ]
        }
      ]
    },
    {
      "cell_type": "code",
      "source": [
        "import os\n",
        "import datetime\n",
        "\n",
        "import IPython\n",
        "import IPython.display\n",
        "import matplotlib as mpl\n",
        "import matplotlib.pyplot as plt\n",
        "import numpy as np\n",
        "import pandas as pd\n",
        "import seaborn as sns\n",
        "import tensorflow as tf\n",
        "\n",
        "mpl.rcParams['figure.figsize'] = (8, 6)\n",
        "mpl.rcParams['axes.grid'] = False\n",
        "\n",
        "\n",
        "data = pd.read_csv('/content/drive/MyDrive/Deep Learning/Project/Task-1/train.csv')"
      ],
      "metadata": {
        "id": "a0Mj8xSx4Du4"
      },
      "execution_count": 164,
      "outputs": []
    },
    {
      "cell_type": "code",
      "source": [
        "data = data[6::6]"
      ],
      "metadata": {
        "id": "4fmUNhEw4G-_"
      },
      "execution_count": 77,
      "outputs": []
    },
    {
      "cell_type": "code",
      "source": [
        "data.head()"
      ],
      "metadata": {
        "colab": {
          "base_uri": "https://localhost:8080/",
          "height": 206
        },
        "id": "9SJQwq3J4KxM",
        "outputId": "abaabc72-dc53-467e-ed47-0dc1eb05d091"
      },
      "execution_count": 78,
      "outputs": [
        {
          "output_type": "execute_result",
          "data": {
            "text/plain": [
              "      x    y    z\n",
              "6  -671  318 -213\n",
              "12 -176  368  629\n",
              "18 -419  309  885\n",
              "24 -407  316  887\n",
              "30 -408  316  887"
            ],
            "text/html": [
              "\n",
              "  <div id=\"df-e89b203d-502a-4433-820b-4d6f1f7e2c13\">\n",
              "    <div class=\"colab-df-container\">\n",
              "      <div>\n",
              "<style scoped>\n",
              "    .dataframe tbody tr th:only-of-type {\n",
              "        vertical-align: middle;\n",
              "    }\n",
              "\n",
              "    .dataframe tbody tr th {\n",
              "        vertical-align: top;\n",
              "    }\n",
              "\n",
              "    .dataframe thead th {\n",
              "        text-align: right;\n",
              "    }\n",
              "</style>\n",
              "<table border=\"1\" class=\"dataframe\">\n",
              "  <thead>\n",
              "    <tr style=\"text-align: right;\">\n",
              "      <th></th>\n",
              "      <th>x</th>\n",
              "      <th>y</th>\n",
              "      <th>z</th>\n",
              "    </tr>\n",
              "  </thead>\n",
              "  <tbody>\n",
              "    <tr>\n",
              "      <th>6</th>\n",
              "      <td>-671</td>\n",
              "      <td>318</td>\n",
              "      <td>-213</td>\n",
              "    </tr>\n",
              "    <tr>\n",
              "      <th>12</th>\n",
              "      <td>-176</td>\n",
              "      <td>368</td>\n",
              "      <td>629</td>\n",
              "    </tr>\n",
              "    <tr>\n",
              "      <th>18</th>\n",
              "      <td>-419</td>\n",
              "      <td>309</td>\n",
              "      <td>885</td>\n",
              "    </tr>\n",
              "    <tr>\n",
              "      <th>24</th>\n",
              "      <td>-407</td>\n",
              "      <td>316</td>\n",
              "      <td>887</td>\n",
              "    </tr>\n",
              "    <tr>\n",
              "      <th>30</th>\n",
              "      <td>-408</td>\n",
              "      <td>316</td>\n",
              "      <td>887</td>\n",
              "    </tr>\n",
              "  </tbody>\n",
              "</table>\n",
              "</div>\n",
              "      <button class=\"colab-df-convert\" onclick=\"convertToInteractive('df-e89b203d-502a-4433-820b-4d6f1f7e2c13')\"\n",
              "              title=\"Convert this dataframe to an interactive table.\"\n",
              "              style=\"display:none;\">\n",
              "        \n",
              "  <svg xmlns=\"http://www.w3.org/2000/svg\" height=\"24px\"viewBox=\"0 0 24 24\"\n",
              "       width=\"24px\">\n",
              "    <path d=\"M0 0h24v24H0V0z\" fill=\"none\"/>\n",
              "    <path d=\"M18.56 5.44l.94 2.06.94-2.06 2.06-.94-2.06-.94-.94-2.06-.94 2.06-2.06.94zm-11 1L8.5 8.5l.94-2.06 2.06-.94-2.06-.94L8.5 2.5l-.94 2.06-2.06.94zm10 10l.94 2.06.94-2.06 2.06-.94-2.06-.94-.94-2.06-.94 2.06-2.06.94z\"/><path d=\"M17.41 7.96l-1.37-1.37c-.4-.4-.92-.59-1.43-.59-.52 0-1.04.2-1.43.59L10.3 9.45l-7.72 7.72c-.78.78-.78 2.05 0 2.83L4 21.41c.39.39.9.59 1.41.59.51 0 1.02-.2 1.41-.59l7.78-7.78 2.81-2.81c.8-.78.8-2.07 0-2.86zM5.41 20L4 18.59l7.72-7.72 1.47 1.35L5.41 20z\"/>\n",
              "  </svg>\n",
              "      </button>\n",
              "      \n",
              "  <style>\n",
              "    .colab-df-container {\n",
              "      display:flex;\n",
              "      flex-wrap:wrap;\n",
              "      gap: 12px;\n",
              "    }\n",
              "\n",
              "    .colab-df-convert {\n",
              "      background-color: #E8F0FE;\n",
              "      border: none;\n",
              "      border-radius: 50%;\n",
              "      cursor: pointer;\n",
              "      display: none;\n",
              "      fill: #1967D2;\n",
              "      height: 32px;\n",
              "      padding: 0 0 0 0;\n",
              "      width: 32px;\n",
              "    }\n",
              "\n",
              "    .colab-df-convert:hover {\n",
              "      background-color: #E2EBFA;\n",
              "      box-shadow: 0px 1px 2px rgba(60, 64, 67, 0.3), 0px 1px 3px 1px rgba(60, 64, 67, 0.15);\n",
              "      fill: #174EA6;\n",
              "    }\n",
              "\n",
              "    [theme=dark] .colab-df-convert {\n",
              "      background-color: #3B4455;\n",
              "      fill: #D2E3FC;\n",
              "    }\n",
              "\n",
              "    [theme=dark] .colab-df-convert:hover {\n",
              "      background-color: #434B5C;\n",
              "      box-shadow: 0px 1px 3px 1px rgba(0, 0, 0, 0.15);\n",
              "      filter: drop-shadow(0px 1px 2px rgba(0, 0, 0, 0.3));\n",
              "      fill: #FFFFFF;\n",
              "    }\n",
              "  </style>\n",
              "\n",
              "      <script>\n",
              "        const buttonEl =\n",
              "          document.querySelector('#df-e89b203d-502a-4433-820b-4d6f1f7e2c13 button.colab-df-convert');\n",
              "        buttonEl.style.display =\n",
              "          google.colab.kernel.accessAllowed ? 'block' : 'none';\n",
              "\n",
              "        async function convertToInteractive(key) {\n",
              "          const element = document.querySelector('#df-e89b203d-502a-4433-820b-4d6f1f7e2c13');\n",
              "          const dataTable =\n",
              "            await google.colab.kernel.invokeFunction('convertToInteractive',\n",
              "                                                     [key], {});\n",
              "          if (!dataTable) return;\n",
              "\n",
              "          const docLinkHtml = 'Like what you see? Visit the ' +\n",
              "            '<a target=\"_blank\" href=https://colab.research.google.com/notebooks/data_table.ipynb>data table notebook</a>'\n",
              "            + ' to learn more about interactive tables.';\n",
              "          element.innerHTML = '';\n",
              "          dataTable['output_type'] = 'display_data';\n",
              "          await google.colab.output.renderOutput(dataTable, element);\n",
              "          const docLink = document.createElement('div');\n",
              "          docLink.innerHTML = docLinkHtml;\n",
              "          element.appendChild(docLink);\n",
              "        }\n",
              "      </script>\n",
              "    </div>\n",
              "  </div>\n",
              "  "
            ]
          },
          "metadata": {},
          "execution_count": 78
        }
      ]
    },
    {
      "cell_type": "code",
      "source": [
        "data.describe().transpose()"
      ],
      "metadata": {
        "colab": {
          "base_uri": "https://localhost:8080/",
          "height": 143
        },
        "id": "AqXovlH74Nxx",
        "outputId": "2b002307-47d7-4691-e702-272912ae9e9c"
      },
      "execution_count": 79,
      "outputs": [
        {
          "output_type": "execute_result",
          "data": {
            "text/plain": [
              "     count        mean         std     min    25%    50%    75%     max\n",
              "x  24151.0  132.734090  491.865984  -998.0 -294.0  212.0  540.0  1039.0\n",
              "y  24151.0  -34.805888  594.083593 -1010.0 -644.0   -9.0  465.0  1078.0\n",
              "z  24151.0 -308.168854  538.492679  -996.0 -794.0 -419.0   83.0  1028.0"
            ],
            "text/html": [
              "\n",
              "  <div id=\"df-7b1df814-4b17-4519-a49f-35839bbed4ab\">\n",
              "    <div class=\"colab-df-container\">\n",
              "      <div>\n",
              "<style scoped>\n",
              "    .dataframe tbody tr th:only-of-type {\n",
              "        vertical-align: middle;\n",
              "    }\n",
              "\n",
              "    .dataframe tbody tr th {\n",
              "        vertical-align: top;\n",
              "    }\n",
              "\n",
              "    .dataframe thead th {\n",
              "        text-align: right;\n",
              "    }\n",
              "</style>\n",
              "<table border=\"1\" class=\"dataframe\">\n",
              "  <thead>\n",
              "    <tr style=\"text-align: right;\">\n",
              "      <th></th>\n",
              "      <th>count</th>\n",
              "      <th>mean</th>\n",
              "      <th>std</th>\n",
              "      <th>min</th>\n",
              "      <th>25%</th>\n",
              "      <th>50%</th>\n",
              "      <th>75%</th>\n",
              "      <th>max</th>\n",
              "    </tr>\n",
              "  </thead>\n",
              "  <tbody>\n",
              "    <tr>\n",
              "      <th>x</th>\n",
              "      <td>24151.0</td>\n",
              "      <td>132.734090</td>\n",
              "      <td>491.865984</td>\n",
              "      <td>-998.0</td>\n",
              "      <td>-294.0</td>\n",
              "      <td>212.0</td>\n",
              "      <td>540.0</td>\n",
              "      <td>1039.0</td>\n",
              "    </tr>\n",
              "    <tr>\n",
              "      <th>y</th>\n",
              "      <td>24151.0</td>\n",
              "      <td>-34.805888</td>\n",
              "      <td>594.083593</td>\n",
              "      <td>-1010.0</td>\n",
              "      <td>-644.0</td>\n",
              "      <td>-9.0</td>\n",
              "      <td>465.0</td>\n",
              "      <td>1078.0</td>\n",
              "    </tr>\n",
              "    <tr>\n",
              "      <th>z</th>\n",
              "      <td>24151.0</td>\n",
              "      <td>-308.168854</td>\n",
              "      <td>538.492679</td>\n",
              "      <td>-996.0</td>\n",
              "      <td>-794.0</td>\n",
              "      <td>-419.0</td>\n",
              "      <td>83.0</td>\n",
              "      <td>1028.0</td>\n",
              "    </tr>\n",
              "  </tbody>\n",
              "</table>\n",
              "</div>\n",
              "      <button class=\"colab-df-convert\" onclick=\"convertToInteractive('df-7b1df814-4b17-4519-a49f-35839bbed4ab')\"\n",
              "              title=\"Convert this dataframe to an interactive table.\"\n",
              "              style=\"display:none;\">\n",
              "        \n",
              "  <svg xmlns=\"http://www.w3.org/2000/svg\" height=\"24px\"viewBox=\"0 0 24 24\"\n",
              "       width=\"24px\">\n",
              "    <path d=\"M0 0h24v24H0V0z\" fill=\"none\"/>\n",
              "    <path d=\"M18.56 5.44l.94 2.06.94-2.06 2.06-.94-2.06-.94-.94-2.06-.94 2.06-2.06.94zm-11 1L8.5 8.5l.94-2.06 2.06-.94-2.06-.94L8.5 2.5l-.94 2.06-2.06.94zm10 10l.94 2.06.94-2.06 2.06-.94-2.06-.94-.94-2.06-.94 2.06-2.06.94z\"/><path d=\"M17.41 7.96l-1.37-1.37c-.4-.4-.92-.59-1.43-.59-.52 0-1.04.2-1.43.59L10.3 9.45l-7.72 7.72c-.78.78-.78 2.05 0 2.83L4 21.41c.39.39.9.59 1.41.59.51 0 1.02-.2 1.41-.59l7.78-7.78 2.81-2.81c.8-.78.8-2.07 0-2.86zM5.41 20L4 18.59l7.72-7.72 1.47 1.35L5.41 20z\"/>\n",
              "  </svg>\n",
              "      </button>\n",
              "      \n",
              "  <style>\n",
              "    .colab-df-container {\n",
              "      display:flex;\n",
              "      flex-wrap:wrap;\n",
              "      gap: 12px;\n",
              "    }\n",
              "\n",
              "    .colab-df-convert {\n",
              "      background-color: #E8F0FE;\n",
              "      border: none;\n",
              "      border-radius: 50%;\n",
              "      cursor: pointer;\n",
              "      display: none;\n",
              "      fill: #1967D2;\n",
              "      height: 32px;\n",
              "      padding: 0 0 0 0;\n",
              "      width: 32px;\n",
              "    }\n",
              "\n",
              "    .colab-df-convert:hover {\n",
              "      background-color: #E2EBFA;\n",
              "      box-shadow: 0px 1px 2px rgba(60, 64, 67, 0.3), 0px 1px 3px 1px rgba(60, 64, 67, 0.15);\n",
              "      fill: #174EA6;\n",
              "    }\n",
              "\n",
              "    [theme=dark] .colab-df-convert {\n",
              "      background-color: #3B4455;\n",
              "      fill: #D2E3FC;\n",
              "    }\n",
              "\n",
              "    [theme=dark] .colab-df-convert:hover {\n",
              "      background-color: #434B5C;\n",
              "      box-shadow: 0px 1px 3px 1px rgba(0, 0, 0, 0.15);\n",
              "      filter: drop-shadow(0px 1px 2px rgba(0, 0, 0, 0.3));\n",
              "      fill: #FFFFFF;\n",
              "    }\n",
              "  </style>\n",
              "\n",
              "      <script>\n",
              "        const buttonEl =\n",
              "          document.querySelector('#df-7b1df814-4b17-4519-a49f-35839bbed4ab button.colab-df-convert');\n",
              "        buttonEl.style.display =\n",
              "          google.colab.kernel.accessAllowed ? 'block' : 'none';\n",
              "\n",
              "        async function convertToInteractive(key) {\n",
              "          const element = document.querySelector('#df-7b1df814-4b17-4519-a49f-35839bbed4ab');\n",
              "          const dataTable =\n",
              "            await google.colab.kernel.invokeFunction('convertToInteractive',\n",
              "                                                     [key], {});\n",
              "          if (!dataTable) return;\n",
              "\n",
              "          const docLinkHtml = 'Like what you see? Visit the ' +\n",
              "            '<a target=\"_blank\" href=https://colab.research.google.com/notebooks/data_table.ipynb>data table notebook</a>'\n",
              "            + ' to learn more about interactive tables.';\n",
              "          element.innerHTML = '';\n",
              "          dataTable['output_type'] = 'display_data';\n",
              "          await google.colab.output.renderOutput(dataTable, element);\n",
              "          const docLink = document.createElement('div');\n",
              "          docLink.innerHTML = docLinkHtml;\n",
              "          element.appendChild(docLink);\n",
              "        }\n",
              "      </script>\n",
              "    </div>\n",
              "  </div>\n",
              "  "
            ]
          },
          "metadata": {},
          "execution_count": 79
        }
      ]
    },
    {
      "cell_type": "markdown",
      "source": [
        "# Sampling\n"
      ],
      "metadata": {
        "id": "6DfYntLG4QyX"
      }
    },
    {
      "cell_type": "code",
      "source": [
        "n = len(data)\n",
        "train_df = data[0:int(n*0.7)]\n",
        "val_df = data[int(n*0.7):int(n*0.9)]\n",
        "test_df = data[int(n*0.9):]\n",
        "\n",
        "num_features = data.shape[1]\n"
      ],
      "metadata": {
        "id": "WQKUMYp84ey5"
      },
      "execution_count": 141,
      "outputs": []
    },
    {
      "cell_type": "markdown",
      "source": [
        "##Normalization"
      ],
      "metadata": {
        "id": "vD6fimy24zBy"
      }
    },
    {
      "cell_type": "code",
      "source": [
        "train_mean = train_df.mean()\n",
        "train_std = train_df.std()\n",
        "\n",
        "train_df = (train_df - train_mean) / train_std\n",
        "val_df = (val_df - train_mean) / train_std\n",
        "test_df = (test_df - train_mean) / train_std\n"
      ],
      "metadata": {
        "id": "ErDJjBQA45Og"
      },
      "execution_count": 142,
      "outputs": []
    },
    {
      "cell_type": "code",
      "source": [
        "df_std = (data - train_mean) / train_std\n",
        "df_std = df_std.melt(var_name='Column', value_name='Normalized')\n",
        "plt.figure(figsize=(12, 6))\n",
        "ax = sns.violinplot(x='Column', y='Normalized', data=df_std)\n",
        "_ = ax.set_xticklabels(data.keys(), rotation=90)"
      ],
      "metadata": {
        "colab": {
          "base_uri": "https://localhost:8080/",
          "height": 384
        },
        "id": "hNzCkQ1c4_jR",
        "outputId": "1c9a1913-d5eb-4399-f447-d5ad93a02b31"
      },
      "execution_count": 82,
      "outputs": [
        {
          "output_type": "display_data",
          "data": {
            "text/plain": [
              "<Figure size 864x432 with 1 Axes>"
            ],
            "image/png": "[encoded data removed]"
          },
          "metadata": {
            "needs_background": "light"
          }
        }
      ]
    },
    {
      "cell_type": "markdown",
      "source": [
        "#Split windows"
      ],
      "metadata": {
        "id": "40iqD5285Hyl"
      }
    },
    {
      "cell_type": "markdown",
      "source": [
        "## Single output"
      ],
      "metadata": {
        "id": "PORVEaZWgQ8V"
      }
    },
    {
      "cell_type": "code",
      "source": [
        "def split(data, win_size = 30, win_shift = 6, offset = 1, column = 'x'):\n",
        "  \n",
        "  rows = np.arange(win_size, len(train_df) - win_shift- 1, win_shift)\n",
        "  \n",
        "  samples = np.zeros((len(rows), win_size, data.shape[-1]))\n",
        "  \n",
        "  targets = np.zeros((len(rows),))\n",
        "  \n",
        "  for j, row in enumerate(rows):\n",
        "    samples[j] = train_df[j * win_shift: row]\n",
        "    targets[j] = train_df[row: row + offset][column]\n",
        "   \n",
        "  return samples, targets"
      ],
      "metadata": {
        "id": "owF26fGq5Ldv"
      },
      "execution_count": 161,
      "outputs": []
    },
    {
      "cell_type": "code",
      "source": [
        "x_train, y_train = split(train_df)\n",
        "x_val  , y_val  = split(val_df)"
      ],
      "metadata": {
        "id": "SaxnlOR-Cwa4"
      },
      "execution_count": 162,
      "outputs": []
    },
    {
      "cell_type": "markdown",
      "source": [
        "## Multiple output"
      ],
      "metadata": {
        "id": "o-53oZu4gVWC"
      }
    },
    {
      "cell_type": "code",
      "source": [
        "def split(data, win_size=30, win_shift=6, offset=1):\n",
        "  \n",
        "  rows = np.arange(win_size, len(train_df) - win_shift- 1, win_shift)\n",
        "  \n",
        "  samples = np.zeros((len(rows), win_size, data.shape[-1]))\n",
        "  \n",
        "  targets = np.zeros((len(rows), data.shape[-1]))\n",
        "  \n",
        "  for j, row in enumerate(rows):\n",
        "    samples[j] = train_df[j * win_shift: row]\n",
        "    targets[j] = train_df[row: row + offset]\n",
        "   \n",
        "  return samples, targets"
      ],
      "metadata": {
        "id": "dc7cBLFsIae9"
      },
      "execution_count": 155,
      "outputs": []
    },
    {
      "cell_type": "code",
      "source": [
        "m_x_train, m_y_train = split(train_df)\n",
        "m_x_val  , m_y_val  = split(val_df)"
      ],
      "metadata": {
        "id": "VvVMU_z9IeFN"
      },
      "execution_count": 156,
      "outputs": []
    },
    {
      "cell_type": "markdown",
      "source": [
        "# Single-output Models"
      ],
      "metadata": {
        "id": "Y6FenHXmDmcC"
      }
    },
    {
      "cell_type": "markdown",
      "source": [
        "## Dense"
      ],
      "metadata": {
        "id": "51EXrHu5Dq-8"
      }
    },
    {
      "cell_type": "code",
      "source": [
        "linear = tf.keras.Sequential([\n",
        "    tf.keras.layers.Dense(units=32, activation='relu'),\n",
        "    tf.keras.layers.Dense(units=32, activation='relu'),\n",
        "    tf.keras.layers.Dense(units=1)\n",
        "])\n",
        "\n",
        "linear.compile(loss = 'mae', optimizer='adam')\n",
        "history = linear.fit(x_train, y_train, epochs=10, validation_data=(x_val, y_val), verbose = 1, batch_size=32, shuffle=False)"
      ],
      "metadata": {
        "colab": {
          "base_uri": "https://localhost:8080/"
        },
        "id": "UWDC4wNCDt_d",
        "outputId": "5f3f7112-511d-4acc-a531-8122ebd262b8"
      },
      "execution_count": 148,
      "outputs": [
        {
          "output_type": "stream",
          "name": "stdout",
          "text": [
            "Epoch 1/10\n",
            "529/529 [==============================] - 3s 5ms/step - loss: 0.6221 - val_loss: 0.5730\n",
            "Epoch 2/10\n",
            "529/529 [==============================] - 2s 5ms/step - loss: 0.5761 - val_loss: 0.5774\n",
            "Epoch 3/10\n",
            "529/529 [==============================] - 3s 6ms/step - loss: 0.5781 - val_loss: 0.5758\n",
            "Epoch 4/10\n",
            "529/529 [==============================] - 3s 5ms/step - loss: 0.5757 - val_loss: 0.5769\n",
            "Epoch 5/10\n",
            "529/529 [==============================] - 3s 5ms/step - loss: 0.5742 - val_loss: 0.5756\n",
            "Epoch 6/10\n",
            "529/529 [==============================] - 2s 4ms/step - loss: 0.5726 - val_loss: 0.5745\n",
            "Epoch 7/10\n",
            "529/529 [==============================] - 3s 5ms/step - loss: 0.5711 - val_loss: 0.5706\n",
            "Epoch 8/10\n",
            "529/529 [==============================] - 3s 5ms/step - loss: 0.5711 - val_loss: 0.5717\n",
            "Epoch 9/10\n",
            "529/529 [==============================] - 3s 5ms/step - loss: 0.5714 - val_loss: 0.5752\n",
            "Epoch 10/10\n",
            "529/529 [==============================] - 3s 5ms/step - loss: 0.5703 - val_loss: 0.5734\n"
          ]
        }
      ]
    },
    {
      "cell_type": "markdown",
      "source": [
        "## Multi-step"
      ],
      "metadata": {
        "id": "bDV0KoNHFFIB"
      }
    },
    {
      "cell_type": "code",
      "source": [
        "multi_step_dense = tf.keras.Sequential([\n",
        "    # Shape: (time, features) => (time*features)\n",
        "    tf.keras.layers.Flatten(),\n",
        "    tf.keras.layers.Dense(units=32, activation='relu'),\n",
        "    tf.keras.layers.Dense(units=32, activation='relu'),\n",
        "    tf.keras.layers.Dense(units=1),\n",
        "    # Add back the time dimension.\n",
        "    # Shape: (outputs) => (1, outputs)\n",
        "    tf.keras.layers.Reshape([1, -1]),\n",
        "])\n",
        "\n",
        "multi_step_dense.compile(loss = 'mae', optimizer='adam')\n",
        "history = multi_step_dense.fit(x_train, y_train, epochs=10, validation_data=(x_val, y_val), verbose = 1, batch_size=32, shuffle=False)"
      ],
      "metadata": {
        "colab": {
          "base_uri": "https://localhost:8080/"
        },
        "id": "WglUxBbiFIR5",
        "outputId": "292e469b-eed1-41db-92f6-08c8a7bc92ee"
      },
      "execution_count": 149,
      "outputs": [
        {
          "output_type": "stream",
          "name": "stdout",
          "text": [
            "Epoch 1/10\n",
            "529/529 [==============================] - 2s 3ms/step - loss: 0.6352 - val_loss: 0.5720\n",
            "Epoch 2/10\n",
            "529/529 [==============================] - 2s 4ms/step - loss: 0.5823 - val_loss: 0.6021\n",
            "Epoch 3/10\n",
            "529/529 [==============================] - 2s 3ms/step - loss: 0.5677 - val_loss: 0.5989\n",
            "Epoch 4/10\n",
            "529/529 [==============================] - 2s 4ms/step - loss: 0.5630 - val_loss: 0.5857\n",
            "Epoch 5/10\n",
            "529/529 [==============================] - 2s 3ms/step - loss: 0.5622 - val_loss: 0.5982\n",
            "Epoch 6/10\n",
            "529/529 [==============================] - 2s 3ms/step - loss: 0.5611 - val_loss: 0.5734\n",
            "Epoch 7/10\n",
            "529/529 [==============================] - 2s 4ms/step - loss: 0.5578 - val_loss: 0.5778\n",
            "Epoch 8/10\n",
            "529/529 [==============================] - 2s 3ms/step - loss: 0.5546 - val_loss: 0.5823\n",
            "Epoch 9/10\n",
            "529/529 [==============================] - 2s 4ms/step - loss: 0.5528 - val_loss: 0.5590\n",
            "Epoch 10/10\n",
            "529/529 [==============================] - 2s 3ms/step - loss: 0.5484 - val_loss: 0.5827\n"
          ]
        }
      ]
    },
    {
      "cell_type": "markdown",
      "source": [
        "## Convolutional"
      ],
      "metadata": {
        "id": "qmhyD_loFwWT"
      }
    },
    {
      "cell_type": "code",
      "source": [
        "conv_model = tf.keras.Sequential([\n",
        "    tf.keras.layers.Conv1D(filters=32,\n",
        "                           kernel_size=(6,),\n",
        "                           activation='relu'),\n",
        "    tf.keras.layers.Dense(units=64, activation='relu'),\n",
        "    tf.keras.layers.Dense(units=1),\n",
        "])\n",
        "\n",
        "conv_model.compile(loss = 'mae', optimizer='adam')\n",
        "history = conv_model.fit(x_train, y_train, epochs=10, validation_data=(x_val, y_val), verbose = 1, batch_size=32, shuffle=False)"
      ],
      "metadata": {
        "colab": {
          "base_uri": "https://localhost:8080/"
        },
        "id": "78wnBMGFFzz7",
        "outputId": "6ba43f18-a3c5-4473-b759-1490568494fc"
      },
      "execution_count": 151,
      "outputs": [
        {
          "output_type": "stream",
          "name": "stdout",
          "text": [
            "Epoch 1/10\n",
            "529/529 [==============================] - 58s 32ms/step - loss: 0.4894 - val_loss: 0.3520\n",
            "Epoch 2/10\n",
            "529/529 [==============================] - 16s 29ms/step - loss: 0.3227 - val_loss: 0.3017\n",
            "Epoch 3/10\n",
            "529/529 [==============================] - 16s 30ms/step - loss: 0.2890 - val_loss: 0.2811\n",
            "Epoch 4/10\n",
            "529/529 [==============================] - 16s 29ms/step - loss: 0.2738 - val_loss: 0.2837\n",
            "Epoch 5/10\n",
            "529/529 [==============================] - 16s 30ms/step - loss: 0.2674 - val_loss: 0.2767\n",
            "Epoch 6/10\n",
            "529/529 [==============================] - 16s 31ms/step - loss: 0.2623 - val_loss: 0.2678\n",
            "Epoch 7/10\n",
            "529/529 [==============================] - 16s 30ms/step - loss: 0.2603 - val_loss: 0.2576\n",
            "Epoch 8/10\n",
            "529/529 [==============================] - 16s 30ms/step - loss: 0.2563 - val_loss: 0.2747\n",
            "Epoch 9/10\n",
            "529/529 [==============================] - 16s 30ms/step - loss: 0.2535 - val_loss: 0.2504\n",
            "Epoch 10/10\n",
            "529/529 [==============================] - 16s 30ms/step - loss: 0.2514 - val_loss: 0.2551\n"
          ]
        }
      ]
    },
    {
      "cell_type": "markdown",
      "source": [
        "## LSTM"
      ],
      "metadata": {
        "id": "gp0ImhLuHrIL"
      }
    },
    {
      "cell_type": "code",
      "source": [
        "lstm_model = tf.keras.models.Sequential([\n",
        "    tf.keras.layers.LSTM(16, recurrent_dropout=0.25, return_sequences=True),\n",
        "    tf.keras.layers.Dropout(0.5),\n",
        "    tf.keras.layers.LSTM(8),\n",
        "    tf.keras.layers.Dense(1)\n",
        "])\n",
        "\n",
        "lstm_model.compile(loss = 'mae', optimizer='adam')\n",
        "history = lstm_model.fit(x_train, y_train, epochs=10, validation_data=(x_val, y_val), verbose = 1, batch_size=32, shuffle=False)"
      ],
      "metadata": {
        "colab": {
          "base_uri": "https://localhost:8080/"
        },
        "id": "2v8zfVmbHuSD",
        "outputId": "6cd225bb-129f-4761-b382-0bb5f092a937"
      },
      "execution_count": 324,
      "outputs": [
        {
          "output_type": "stream",
          "name": "stdout",
          "text": [
            "604/604 [==============================] - 31s 42ms/step - loss: 0.1729 - val_loss: 0.1238\n"
          ]
        }
      ]
    },
    {
      "cell_type": "code",
      "source": [
        "lstm_model.summary()"
      ],
      "metadata": {
        "colab": {
          "base_uri": "https://localhost:8080/"
        },
        "id": "cKA2OmBobQv4",
        "outputId": "284a862b-d01c-47a0-8945-4d5a5c3896b1"
      },
      "execution_count": 325,
      "outputs": [
        {
          "output_type": "stream",
          "name": "stdout",
          "text": [
            "Model: \"sequential_48\"\n",
            "_________________________________________________________________\n",
            " Layer (type)                Output Shape              Param #   \n",
            "=================================================================\n",
            " lstm_70 (LSTM)              (None, 30, 16)            1280      \n",
            "                                                                 \n",
            " dropout_3 (Dropout)         (None, 30, 16)            0         \n",
            "                                                                 \n",
            " lstm_71 (LSTM)              (None, 8)                 800       \n",
            "                                                                 \n",
            " dense_93 (Dense)            (None, 1)                 9         \n",
            "                                                                 \n",
            "=================================================================\n",
            "Total params: 2,089\n",
            "Trainable params: 2,089\n",
            "Non-trainable params: 0\n",
            "_________________________________________________________________\n"
          ]
        }
      ]
    },
    {
      "cell_type": "code",
      "source": [
        "lstm_model = tf.keras.models.Sequential([\n",
        "    tf.keras.layers.LSTM(16, return_sequences=True),\n",
        "    tf.keras.layers.LSTM(8),\n",
        "    tf.keras.layers.Dense(1)\n",
        "])\n",
        "\n",
        "lstm_model.compile(loss = 'mae', optimizer='adam')\n",
        "history = lstm_model.fit(x_train, y_train, epochs=10, validation_data=(x_val, y_val), verbose = 1, batch_size=32, shuffle=False)"
      ],
      "metadata": {
        "colab": {
          "base_uri": "https://localhost:8080/"
        },
        "id": "DnXGvWELdIL3",
        "outputId": "13705579-3dda-4874-a4bc-f6cc566c4d77"
      },
      "execution_count": 163,
      "outputs": [
        {
          "output_type": "stream",
          "name": "stdout",
          "text": [
            "Epoch 1/10\n",
            "529/529 [==============================] - 23s 33ms/step - loss: 0.3468 - val_loss: 0.2749\n",
            "Epoch 2/10\n",
            "529/529 [==============================] - 17s 32ms/step - loss: 0.2135 - val_loss: 0.2244\n",
            "Epoch 3/10\n",
            "529/529 [==============================] - 16s 31ms/step - loss: 0.1855 - val_loss: 0.1794\n",
            "Epoch 4/10\n",
            "529/529 [==============================] - 17s 31ms/step - loss: 0.1698 - val_loss: 0.1551\n",
            "Epoch 5/10\n",
            "529/529 [==============================] - 17s 31ms/step - loss: 0.1525 - val_loss: 0.1588\n",
            "Epoch 6/10\n",
            "529/529 [==============================] - 17s 31ms/step - loss: 0.1398 - val_loss: 0.1284\n",
            "Epoch 7/10\n",
            "529/529 [==============================] - 17s 32ms/step - loss: 0.1324 - val_loss: 0.1636\n",
            "Epoch 8/10\n",
            "529/529 [==============================] - 18s 34ms/step - loss: 0.1314 - val_loss: 0.1272\n",
            "Epoch 9/10\n",
            "529/529 [==============================] - 17s 32ms/step - loss: 0.1242 - val_loss: 0.1398\n",
            "Epoch 10/10\n",
            "529/529 [==============================] - 17s 32ms/step - loss: 0.1280 - val_loss: 0.1442\n"
          ]
        }
      ]
    },
    {
      "cell_type": "markdown",
      "source": [
        "# Multi-output Models\n"
      ],
      "metadata": {
        "id": "JnJzDhDnKG3q"
      }
    },
    {
      "cell_type": "markdown",
      "source": [
        "## Multilinear"
      ],
      "metadata": {
        "id": "sAEG4cADKPiS"
      }
    },
    {
      "cell_type": "code",
      "source": [
        "multi_linear_model = tf.keras.Sequential([\n",
        "    # Take the last time-step.\n",
        "    # Shape [batch, time, features] => [batch, 1, features]\n",
        "    tf.keras.layers.Lambda(lambda x: x[:, -1:, :]),\n",
        "    # Shape => [batch, 1, out_steps*features]\n",
        "    tf.keras.layers.Dense(1*num_features,\n",
        "                          kernel_initializer=tf.initializers.zeros()),\n",
        "    # Shape => [batch, out_steps, features]\n",
        "    tf.keras.layers.Reshape([1, num_features])\n",
        "])\n",
        "\n",
        "multi_linear_model.compile(loss = 'mae', optimizer='adam')\n",
        "history = multi_linear_model.fit(m_x_train, m_y_train, epochs=10, validation_data=(m_x_val, m_y_val), verbose = 1, batch_size=32, shuffle=False)"
      ],
      "metadata": {
        "colab": {
          "base_uri": "https://localhost:8080/"
        },
        "id": "zPPFTmfANc1f",
        "outputId": "0281aedf-bb96-4d47-880c-40fec12ab63a"
      },
      "execution_count": 134,
      "outputs": [
        {
          "output_type": "stream",
          "name": "stdout",
          "text": [
            "Epoch 1/10\n",
            "529/529 [==============================] - 3s 4ms/step - loss: 0.7547 - val_loss: 0.6794\n",
            "Epoch 2/10\n",
            "529/529 [==============================] - 2s 3ms/step - loss: 0.6429 - val_loss: 0.6143\n",
            "Epoch 3/10\n",
            "529/529 [==============================] - 2s 4ms/step - loss: 0.6010 - val_loss: 0.5890\n",
            "Epoch 4/10\n",
            "529/529 [==============================] - 2s 4ms/step - loss: 0.5841 - val_loss: 0.5790\n",
            "Epoch 5/10\n",
            "529/529 [==============================] - 2s 4ms/step - loss: 0.5775 - val_loss: 0.5752\n",
            "Epoch 6/10\n",
            "529/529 [==============================] - 2s 5ms/step - loss: 0.5750 - val_loss: 0.5738\n",
            "Epoch 7/10\n",
            "529/529 [==============================] - 2s 4ms/step - loss: 0.5741 - val_loss: 0.5733\n",
            "Epoch 8/10\n",
            "529/529 [==============================] - 2s 3ms/step - loss: 0.5738 - val_loss: 0.5731\n",
            "Epoch 9/10\n",
            "529/529 [==============================] - 2s 3ms/step - loss: 0.5736 - val_loss: 0.5731\n",
            "Epoch 10/10\n",
            "529/529 [==============================] - 2s 3ms/step - loss: 0.5736 - val_loss: 0.5730\n"
          ]
        }
      ]
    },
    {
      "cell_type": "markdown",
      "source": [
        "##Dense"
      ],
      "metadata": {
        "id": "wFdWOPNZNlIo"
      }
    },
    {
      "cell_type": "code",
      "source": [
        "multi_dense_model = tf.keras.Sequential([\n",
        "    # Take the last time step.\n",
        "    # Shape [batch, time, features] => [batch, 1, features]\n",
        "    tf.keras.layers.Lambda(lambda x: x[:, -1:, :]),\n",
        "    # Shape => [batch, 1, dense_units]\n",
        "    tf.keras.layers.Dense(512, activation='relu'),\n",
        "    # Shape => [batch, out_steps*features]\n",
        "    tf.keras.layers.Dense(num_features,\n",
        "                          kernel_initializer=tf.initializers.zeros()),\n",
        "    # Shape => [batch, out_steps, features]\n",
        "    tf.keras.layers.Reshape([1, num_features])\n",
        "])\n",
        "\n",
        "multi_dense_model.compile(loss = 'mae', optimizer='adam')\n",
        "history = multi_dense_model.fit(m_x_train, m_y_train, epochs=10, validation_data=(m_x_val, m_y_val), verbose = 1, batch_size=32, shuffle=False)"
      ],
      "metadata": {
        "colab": {
          "base_uri": "https://localhost:8080/"
        },
        "id": "O4dC9AIiKKrP",
        "outputId": "44b19141-a141-4c69-8bb7-eb2e9b32e2d8"
      },
      "execution_count": 133,
      "outputs": [
        {
          "output_type": "stream",
          "name": "stdout",
          "text": [
            "Epoch 1/10\n",
            "529/529 [==============================] - 3s 4ms/step - loss: 0.6185 - val_loss: 0.5902\n",
            "Epoch 2/10\n",
            "529/529 [==============================] - 2s 5ms/step - loss: 0.5821 - val_loss: 0.5844\n",
            "Epoch 3/10\n",
            "529/529 [==============================] - 2s 5ms/step - loss: 0.5781 - val_loss: 0.5881\n",
            "Epoch 4/10\n",
            "529/529 [==============================] - 2s 5ms/step - loss: 0.5770 - val_loss: 0.5844\n",
            "Epoch 5/10\n",
            "529/529 [==============================] - 2s 3ms/step - loss: 0.5760 - val_loss: 0.5854\n",
            "Epoch 6/10\n",
            "529/529 [==============================] - 2s 3ms/step - loss: 0.5761 - val_loss: 0.5838\n",
            "Epoch 7/10\n",
            "529/529 [==============================] - 2s 3ms/step - loss: 0.5748 - val_loss: 0.5971\n",
            "Epoch 8/10\n",
            "529/529 [==============================] - 2s 5ms/step - loss: 0.5746 - val_loss: 0.5948\n",
            "Epoch 9/10\n",
            "529/529 [==============================] - 2s 5ms/step - loss: 0.5742 - val_loss: 0.5897\n",
            "Epoch 10/10\n",
            "529/529 [==============================] - 2s 5ms/step - loss: 0.5716 - val_loss: 0.5910\n"
          ]
        }
      ]
    },
    {
      "cell_type": "markdown",
      "source": [
        "## Convolutional"
      ],
      "metadata": {
        "id": "9_tbz_jBNwe3"
      }
    },
    {
      "cell_type": "code",
      "source": [
        "CONV_WIDTH = 5\n",
        "multi_conv_model = tf.keras.Sequential([\n",
        "    # Shape [batch, time, features] => [batch, CONV_WIDTH, features]\n",
        "    tf.keras.layers.Lambda(lambda x: x[:, -CONV_WIDTH:, :]),\n",
        "    # Shape => [batch, 1, conv_units]\n",
        "    tf.keras.layers.Conv1D(32, activation='relu', kernel_size=(CONV_WIDTH)),\n",
        "    # Shape => [batch, 1,  out_steps*features]\n",
        "    tf.keras.layers.Dense(num_features,\n",
        "                          kernel_initializer=tf.initializers.zeros()),\n",
        "    # Shape => [batch, out_steps, features]\n",
        "    tf.keras.layers.Reshape([1, num_features])\n",
        "])\n",
        "\n",
        "multi_dense_model.compile(loss = 'mae', optimizer='adam')\n",
        "history = multi_dense_model.fit(m_x_train, m_y_train, epochs=10, validation_data=(m_x_val, m_y_val), verbose = 1, batch_size=32, shuffle=False)"
      ],
      "metadata": {
        "colab": {
          "base_uri": "https://localhost:8080/"
        },
        "id": "4nSzj-nkNzuF",
        "outputId": "7b09d9ec-c85a-4fe3-817f-7cb2870214ed"
      },
      "execution_count": 137,
      "outputs": [
        {
          "output_type": "stream",
          "name": "stdout",
          "text": [
            "Epoch 1/10\n",
            "529/529 [==============================] - 3s 4ms/step - loss: 0.5672 - val_loss: 0.5774\n",
            "Epoch 2/10\n",
            "529/529 [==============================] - 2s 5ms/step - loss: 0.5690 - val_loss: 0.5757\n",
            "Epoch 3/10\n",
            "529/529 [==============================] - 2s 3ms/step - loss: 0.5680 - val_loss: 0.5735\n",
            "Epoch 4/10\n",
            "529/529 [==============================] - 2s 3ms/step - loss: 0.5674 - val_loss: 0.5784\n",
            "Epoch 5/10\n",
            "529/529 [==============================] - 2s 3ms/step - loss: 0.5656 - val_loss: 0.5754\n",
            "Epoch 6/10\n",
            "529/529 [==============================] - 2s 3ms/step - loss: 0.5670 - val_loss: 0.5757\n",
            "Epoch 7/10\n",
            "529/529 [==============================] - 2s 5ms/step - loss: 0.5669 - val_loss: 0.5743\n",
            "Epoch 8/10\n",
            "529/529 [==============================] - 2s 4ms/step - loss: 0.5658 - val_loss: 0.5742\n",
            "Epoch 9/10\n",
            "529/529 [==============================] - 2s 5ms/step - loss: 0.5658 - val_loss: 0.5727\n",
            "Epoch 10/10\n",
            "529/529 [==============================] - 2s 3ms/step - loss: 0.5667 - val_loss: 0.5712\n"
          ]
        }
      ]
    },
    {
      "cell_type": "markdown",
      "source": [
        "## LSTM"
      ],
      "metadata": {
        "id": "bip_2t4_OJTp"
      }
    },
    {
      "cell_type": "code",
      "source": [
        "multi_lstm_model = tf.keras.Sequential([\n",
        "    tf.keras.layers.LSTM(32, return_sequences=True),\n",
        "    tf.keras.layers.LSTM(8),\n",
        "    tf.keras.layers.Dense(1)\n",
        "])\n",
        "\n",
        "multi_lstm_model.compile(loss = 'mae', optimizer='adam')\n",
        "history = multi_lstm_model.fit(m_x_train, m_y_train, epochs=100, validation_data=(m_x_val, m_y_val), verbose = 1, batch_size=32, shuffle=False)"
      ],
      "metadata": {
        "id": "MsDYcDzzOMx2"
      },
      "execution_count": null,
      "outputs": []
    },
    {
      "cell_type": "markdown",
      "source": [
        "# Autoencoder Multi-output\n"
      ],
      "metadata": {
        "id": "ELSxWJEakmRi"
      }
    },
    {
      "cell_type": "code",
      "source": [
        "data = pd.read_csv('/content/drive/MyDrive/Deep Learning/Project/Task-1/train.csv')\n",
        "data_test = pd.read_csv('/content/drive/MyDrive/Deep Learning/Project/Task-1/test.csv')\n",
        "n_past = 30\n",
        "n_future = 1\n",
        "n_features = 3"
      ],
      "metadata": {
        "id": "9qBeM6ZfkpA8"
      },
      "execution_count": 261,
      "outputs": []
    },
    {
      "cell_type": "code",
      "source": [
        "n = len(data)\n",
        "train_df = data[0:int(n*0.8)]\n",
        "val_df = data[int(n*0.8):]\n",
        "test_df = data_test\n"
      ],
      "metadata": {
        "id": "Y0Z7TUE4k6sH"
      },
      "execution_count": 262,
      "outputs": []
    },
    {
      "cell_type": "code",
      "source": [
        "train_df.shape, test_df.shape, val_df.shape"
      ],
      "metadata": {
        "colab": {
          "base_uri": "https://localhost:8080/"
        },
        "id": "GAQRGIBlk9zG",
        "outputId": "6c101cac-c3c0-4c3a-d98b-61786be6d126"
      },
      "execution_count": 264,
      "outputs": [
        {
          "output_type": "execute_result",
          "data": {
            "text/plain": [
              "((115928, 3), (148371, 3), (28983, 3))"
            ]
          },
          "metadata": {},
          "execution_count": 264
        }
      ]
    },
    {
      "cell_type": "markdown",
      "source": [
        "## Scaling values\n"
      ],
      "metadata": {
        "id": "6B2C_2YtlSrr"
      }
    },
    {
      "cell_type": "code",
      "source": [
        "from sklearn.preprocessing import MinMaxScaler\n",
        "\n",
        "train = train_df\n",
        "scalers={}\n",
        "\n",
        "for i in train_df.columns:\n",
        "    scaler = MinMaxScaler(feature_range=(-1,1))\n",
        "    s_s = scaler.fit_transform(train[i].values.reshape(-1,1))\n",
        "    s_s=np.reshape(s_s,len(s_s))\n",
        "    scalers['scaler_'+ i] = scaler\n",
        "    train[i]=s_s\n",
        "\n",
        "val = val_df\n",
        "for i in train_df.columns:\n",
        "    scaler = scalers['scaler_'+i]\n",
        "    s_s = scaler.transform(val[i].values.reshape(-1,1))\n",
        "    s_s=np.reshape(s_s,len(s_s))\n",
        "    scalers['scaler_'+i] = scaler\n",
        "    val[i]=s_s\n",
        "\n",
        "test = test_df\n",
        "for i in train_df.columns:\n",
        "    scaler = scalers['scaler_'+i]\n",
        "    s_s = scaler.transform(test[i].values.reshape(-1,1))\n",
        "    s_s=np.reshape(s_s,len(s_s))\n",
        "    scalers['scaler_'+i] = scaler\n",
        "    test[i]=s_s"
      ],
      "metadata": {
        "id": "OgUspGdolVgL"
      },
      "execution_count": null,
      "outputs": []
    },
    {
      "cell_type": "code",
      "source": [
        "test[:10]"
      ],
      "metadata": {
        "id": "LRdPZ0seKMwp"
      },
      "execution_count": null,
      "outputs": []
    },
    {
      "cell_type": "code",
      "source": [
        "def split_series(series, n_past, n_future):\n",
        "  #\n",
        "  # n_past ==> no of past observations\n",
        "  #\n",
        "  # n_future ==> no of future observations \n",
        "  #\n",
        "  X, y = list(), list()\n",
        "  for window_start in range(len(series)):\n",
        "    past_end = window_start + n_past\n",
        "    future_end = past_end + n_future\n",
        "    if future_end > len(series):\n",
        "      break\n",
        "    # slicing the past and future parts of the window\n",
        "    past, future = series[window_start:past_end, :], series[past_end:future_end, :]\n",
        "    X.append(past)\n",
        "    y.append(future)\n",
        "  return np.array(X), np.array(y)"
      ],
      "metadata": {
        "id": "sPcFU3IMlqeq"
      },
      "execution_count": 274,
      "outputs": []
    },
    {
      "cell_type": "code",
      "source": [
        "X_train, y_train = split_series(train.values,n_past, n_future)\n",
        "X_train = X_train.reshape((X_train.shape[0], X_train.shape[1], n_features))\n",
        "y_train = y_train.reshape((y_train.shape[0], y_train.shape[1], n_features))\n",
        "\n",
        "X_val, y_val = split_series(val.values, n_past, n_future)\n",
        "X_val = X_val.reshape((X_val.shape[0], X_val.shape[1], n_features))\n",
        "y_val = y_val.reshape((y_val.shape[0], y_val.shape[1], n_features))\n",
        "\n",
        "X_test, y_test = split_series(test.values,n_past, n_future)\n",
        "X_test = X_test.reshape((X_test.shape[0], X_test.shape[1],n_features))\n",
        "y_test = y_test.reshape((y_test.shape[0], y_test.shape[1], n_features))"
      ],
      "metadata": {
        "id": "dDyXjr-XlybA"
      },
      "execution_count": 275,
      "outputs": []
    },
    {
      "cell_type": "code",
      "source": [
        "y_val[:10]"
      ],
      "metadata": {
        "id": "PdJEZ_mU18QZ"
      },
      "execution_count": null,
      "outputs": []
    },
    {
      "cell_type": "markdown",
      "source": [
        "## Model 1"
      ],
      "metadata": {
        "id": "kFnPZ9fYmIJt"
      }
    },
    {
      "cell_type": "code",
      "source": [
        "# E1D1\n",
        "# n_features ==> no of features at each timestep in the data.\n",
        "#\n",
        "encoder_inputs = tf.keras.layers.Input(shape=(n_past, n_features))\n",
        "encoder_l1 = tf.keras.layers.LSTM(16, return_state=True)\n",
        "encoder_outputs1 = encoder_l1(encoder_inputs)\n",
        "encoder_states1 = encoder_outputs1[1:]\n",
        "#\n",
        "decoder_inputs = tf.keras.layers.RepeatVector(n_future)(encoder_outputs1[0])\n",
        "#\n",
        "decoder_l1 = tf.keras.layers.LSTM(16, return_sequences=True)(decoder_inputs,initial_state = encoder_states1)\n",
        "decoder_outputs1 = tf.keras.layers.TimeDistributed(tf.keras.layers.Dense(n_features))(decoder_l1)\n",
        "#\n",
        "model_e1d1 = tf.keras.models.Model(encoder_inputs,decoder_outputs1)\n",
        "#\n",
        "model_e1d1.summary()"
      ],
      "metadata": {
        "id": "JAm0bqtUl1nd"
      },
      "execution_count": null,
      "outputs": []
    },
    {
      "cell_type": "code",
      "source": [
        "reduce_lr = tf.keras.callbacks.LearningRateScheduler(lambda x: 1e-3 * 0.90 ** x)\n",
        "\n",
        "model_e1d1.compile(optimizer=tf.keras.optimizers.Adam(), loss=tf.keras.losses.MeanAbsoluteError())\n",
        "history_e1d1=model_e1d1.fit(X_train, y_train, epochs=10, validation_data=(X_val,y_val), batch_size=32, verbose=1, callbacks=[reduce_lr])"
      ],
      "metadata": {
        "colab": {
          "base_uri": "https://localhost:8080/"
        },
        "id": "ZFNMl5RLAL0e",
        "outputId": "72b33645-9f38-4db8-d079-92a528f49825"
      },
      "execution_count": 280,
      "outputs": [
        {
          "output_type": "stream",
          "name": "stdout",
          "text": [
            "Epoch 1/10\n",
            "3622/3622 [==============================] - 66s 17ms/step - loss: 0.0725 - val_loss: 0.0513 - lr: 0.0010\n",
            "Epoch 2/10\n",
            "3622/3622 [==============================] - 71s 20ms/step - loss: 0.0552 - val_loss: 0.0516 - lr: 9.0000e-04\n",
            "Epoch 3/10\n",
            "3622/3622 [==============================] - 61s 17ms/step - loss: 0.0546 - val_loss: 0.0504 - lr: 8.1000e-04\n",
            "Epoch 4/10\n",
            "3622/3622 [==============================] - 61s 17ms/step - loss: 0.0543 - val_loss: 0.0504 - lr: 7.2900e-04\n",
            "Epoch 5/10\n",
            "3622/3622 [==============================] - 61s 17ms/step - loss: 0.0541 - val_loss: 0.0495 - lr: 6.5610e-04\n",
            "Epoch 6/10\n",
            "3622/3622 [==============================] - 61s 17ms/step - loss: 0.0540 - val_loss: 0.0496 - lr: 5.9049e-04\n",
            "Epoch 7/10\n",
            "3622/3622 [==============================] - 60s 17ms/step - loss: 0.0538 - val_loss: 0.0495 - lr: 5.3144e-04\n",
            "Epoch 8/10\n",
            "3622/3622 [==============================] - 61s 17ms/step - loss: 0.0537 - val_loss: 0.0499 - lr: 4.7830e-04\n",
            "Epoch 9/10\n",
            "3622/3622 [==============================] - 59s 16ms/step - loss: 0.0536 - val_loss: 0.0497 - lr: 4.3047e-04\n",
            "Epoch 10/10\n",
            "3622/3622 [==============================] - 59s 16ms/step - loss: 0.0535 - val_loss: 0.0495 - lr: 3.8742e-04\n"
          ]
        }
      ]
    },
    {
      "cell_type": "code",
      "source": [
        "plt.plot(history_e1d1.history['loss'])\n",
        "plt.plot(history_e1d1.history['val_loss'])\n",
        "plt.title(\"Model 1 Loss\")\n",
        "plt.xlabel('Epochs')\n",
        "plt.ylabel('Loss')\n",
        "plt.legend(['Train', 'Valid'])\n",
        "plt.show()"
      ],
      "metadata": {
        "colab": {
          "base_uri": "https://localhost:8080/",
          "height": 404
        },
        "id": "Ov01CTa7APvk",
        "outputId": "c1d26eab-7583-4171-ed1b-79eb6cea9679"
      },
      "execution_count": 281,
      "outputs": [
        {
          "output_type": "display_data",
          "data": {
            "text/plain": [
              "<Figure size 576x432 with 1 Axes>"
            ],
            "image/png": "[encoded data removed]"
          },
          "metadata": {
            "needs_background": "light"
          }
        }
      ]
    },
    {
      "cell_type": "code",
      "source": [
        "pred1_e1d1 = model_e1d1.predict(X_test)"
      ],
      "metadata": {
        "id": "Vcdb8B8SAQzC"
      },
      "execution_count": 282,
      "outputs": []
    },
    {
      "cell_type": "code",
      "source": [
        "pred1_e1d1[:10]"
      ],
      "metadata": {
        "id": "RCvO-_zXGXa7"
      },
      "execution_count": null,
      "outputs": []
    },
    {
      "cell_type": "markdown",
      "source": [
        "## Model 2\n"
      ],
      "metadata": {
        "id": "OEaWNepbmdfL"
      }
    },
    {
      "cell_type": "code",
      "source": [
        "# E2D2\n",
        "# n_features ==> no of features at each timestep in the data.\n",
        "#\n",
        "encoder_inputs = tf.keras.layers.Input(shape=(n_past, n_features))\n",
        "encoder_l1 = tf.keras.layers.LSTM(16,return_sequences = True, return_state=True)\n",
        "encoder_outputs1 = encoder_l1(encoder_inputs)\n",
        "encoder_states1 = encoder_outputs1[1:]\n",
        "encoder_l2 = tf.keras.layers.LSTM(16, return_state=True)\n",
        "encoder_outputs2 = encoder_l2(encoder_outputs1[0])\n",
        "encoder_states2 = encoder_outputs2[1:]\n",
        "#\n",
        "decoder_inputs = tf.keras.layers.RepeatVector(n_future)(encoder_outputs2[0])\n",
        "#\n",
        "decoder_l1 = tf.keras.layers.LSTM(16, return_sequences=True)(decoder_inputs,initial_state = encoder_states1)\n",
        "decoder_l2 = tf.keras.layers.LSTM(16, return_sequences=True)(decoder_l1,initial_state = encoder_states2)\n",
        "decoder_outputs2 = tf.keras.layers.TimeDistributed(tf.keras.layers.Dense(n_features))(decoder_l2)\n",
        "#\n",
        "model_e2d2 = tf.keras.models.Model(encoder_inputs,decoder_outputs2)\n",
        "#\n",
        "model_e2d2.summary()"
      ],
      "metadata": {
        "id": "P6NzZh2Emf8i"
      },
      "execution_count": null,
      "outputs": []
    },
    {
      "cell_type": "code",
      "source": [
        "reduce_lr = tf.keras.callbacks.LearningRateScheduler(lambda x: 1e-3 * 0.90 ** x)\n",
        "\n",
        "model_e2d2.compile(optimizer=tf.keras.optimizers.Adam(), loss=tf.keras.losses.MeanAbsoluteError())\n",
        "history_e2d2=model_e2d2.fit(X_train, y_train, epochs=10, validation_data=(X_val,y_val), batch_size=32, verbose=1, callbacks=[reduce_lr])"
      ],
      "metadata": {
        "colab": {
          "base_uri": "https://localhost:8080/"
        },
        "id": "Y5OZBzAs8kHe",
        "outputId": "7acdad1c-3cb4-44b9-b586-5fcd030b7cb6"
      },
      "execution_count": 286,
      "outputs": [
        {
          "output_type": "stream",
          "name": "stdout",
          "text": [
            "Epoch 1/10\n",
            "3622/3622 [==============================] - 121s 31ms/step - loss: 0.0760 - val_loss: 0.0525 - lr: 0.0010\n",
            "Epoch 2/10\n",
            "3622/3622 [==============================] - 114s 32ms/step - loss: 0.0559 - val_loss: 0.0515 - lr: 9.0000e-04\n",
            "Epoch 3/10\n",
            "3622/3622 [==============================] - 112s 31ms/step - loss: 0.0549 - val_loss: 0.0509 - lr: 8.1000e-04\n",
            "Epoch 4/10\n",
            "3622/3622 [==============================] - 112s 31ms/step - loss: 0.0545 - val_loss: 0.0500 - lr: 7.2900e-04\n",
            "Epoch 5/10\n",
            "3622/3622 [==============================] - 112s 31ms/step - loss: 0.0542 - val_loss: 0.0502 - lr: 6.5610e-04\n",
            "Epoch 6/10\n",
            "3622/3622 [==============================] - 112s 31ms/step - loss: 0.0541 - val_loss: 0.0498 - lr: 5.9049e-04\n",
            "Epoch 7/10\n",
            "3622/3622 [==============================] - 111s 31ms/step - loss: 0.0539 - val_loss: 0.0497 - lr: 5.3144e-04\n",
            "Epoch 8/10\n",
            "3622/3622 [==============================] - 112s 31ms/step - loss: 0.0537 - val_loss: 0.0497 - lr: 4.7830e-04\n",
            "Epoch 9/10\n",
            "3622/3622 [==============================] - 111s 31ms/step - loss: 0.0536 - val_loss: 0.0497 - lr: 4.3047e-04\n",
            "Epoch 10/10\n",
            "3622/3622 [==============================] - 113s 31ms/step - loss: 0.0535 - val_loss: 0.0495 - lr: 3.8742e-04\n"
          ]
        }
      ]
    },
    {
      "cell_type": "code",
      "source": [
        "plt.plot(history_e2d2.history['loss'])\n",
        "plt.plot(history_e2d2.history['val_loss'])\n",
        "plt.title(\"Model 2 Loss\")\n",
        "plt.xlabel('Epochs')\n",
        "plt.ylabel('Loss')\n",
        "plt.legend(['Train', 'Valid'])\n",
        "plt.show()"
      ],
      "metadata": {
        "colab": {
          "base_uri": "https://localhost:8080/",
          "height": 404
        },
        "id": "pw3eg1XcAsYW",
        "outputId": "1ea688da-d797-425d-896e-98d6ca7502e0"
      },
      "execution_count": 287,
      "outputs": [
        {
          "output_type": "display_data",
          "data": {
            "text/plain": [
              "<Figure size 576x432 with 1 Axes>"
            ],
            "image/png": "[encoded data removed]"
          },
          "metadata": {
            "needs_background": "light"
          }
        }
      ]
    },
    {
      "cell_type": "code",
      "source": [
        "pred1_e2d2 = model_e2d2.predict(X_test)"
      ],
      "metadata": {
        "id": "Mloakqvpz67x"
      },
      "execution_count": 288,
      "outputs": []
    },
    {
      "cell_type": "markdown",
      "source": [
        "## Revert Scaling"
      ],
      "metadata": {
        "id": "s3wBQpd3HwLl"
      }
    },
    {
      "cell_type": "code",
      "source": [
        "for index,i in enumerate(train_df.columns):\n",
        "    scaler = scalers['scaler_'+i]\n",
        "    pred1_e1d1[:,:,index] = scaler.inverse_transform(pred1_e1d1[:,:,index])\n",
        "    pred1_e2d2[:,:,index] = scaler.inverse_transform(pred1_e2d2[:,:,index])\n",
        "    y_test[:,:,index] = scaler.inverse_transform(y_test[:,:,index])\n"
      ],
      "metadata": {
        "id": "TjU-MF0q0Nf1"
      },
      "execution_count": 289,
      "outputs": []
    },
    {
      "cell_type": "code",
      "source": [
        "pred1_e1d1[:5]"
      ],
      "metadata": {
        "colab": {
          "base_uri": "https://localhost:8080/"
        },
        "id": "VubfDxzLS7NN",
        "outputId": "c5e7eb4e-ef93-4438-8d7a-2652ca77ac96"
      },
      "execution_count": 290,
      "outputs": [
        {
          "output_type": "execute_result",
          "data": {
            "text/plain": [
              "array([[[ 585.4255 , -547.52826, -471.8596 ]],\n",
              "\n",
              "       [[ 582.0125 , -394.66592, -736.768  ]],\n",
              "\n",
              "       [[ 584.43524, -421.95123, -714.0667 ]],\n",
              "\n",
              "       [[ 581.8892 , -418.2416 , -719.7282 ]],\n",
              "\n",
              "       [[ 580.83344, -417.93356, -720.3462 ]]], dtype=float32)"
            ]
          },
          "metadata": {},
          "execution_count": 290
        }
      ]
    },
    {
      "cell_type": "code",
      "source": [
        "pred1_e2d2[:5]"
      ],
      "metadata": {
        "colab": {
          "base_uri": "https://localhost:8080/"
        },
        "id": "lQPBpzzgTBZZ",
        "outputId": "6db1a084-ef8a-4ca0-f233-908d97b6d8bc"
      },
      "execution_count": 291,
      "outputs": [
        {
          "output_type": "execute_result",
          "data": {
            "text/plain": [
              "array([[[ 579.4152 , -550.7389 , -480.36356]],\n",
              "\n",
              "       [[ 581.8531 , -397.16843, -738.8021 ]],\n",
              "\n",
              "       [[ 587.2816 , -420.14142, -709.6851 ]],\n",
              "\n",
              "       [[ 583.6196 , -414.14038, -716.38416]],\n",
              "\n",
              "       [[ 583.82764, -413.1983 , -719.54346]]], dtype=float32)"
            ]
          },
          "metadata": {},
          "execution_count": 291
        }
      ]
    },
    {
      "cell_type": "code",
      "source": [
        ""
      ],
      "metadata": {
        "colab": {
          "base_uri": "https://localhost:8080/"
        },
        "id": "cS33c6gUTG8J",
        "outputId": "b8b446aa-1f0b-4390-ba9c-545a23b33c48"
      },
      "execution_count": 294,
      "outputs": [
        {
          "output_type": "execute_result",
          "data": {
            "text/plain": [
              "(148341, 1, 3)"
            ]
          },
          "metadata": {},
          "execution_count": 294
        }
      ]
    },
    {
      "cell_type": "code",
      "source": [
        "from sklearn.metrics import mean_absolute_error\n",
        "\n",
        "for index,i in enumerate(train_df.columns):\n",
        "  print(i)\n",
        "  print(\"Model 1 : \",mean_absolute_error(y_test[:, 0, index], pred1_e1d1[:,0 ,index]),end=\", \\r\\n\")\n",
        "  print(\"Model 2 : \",mean_absolute_error(y_test[:, 0, index], pred1_e2d2[:,0 ,index]))\n",
        "  print()\n",
        "  print()"
      ],
      "metadata": {
        "colab": {
          "base_uri": "https://localhost:8080/"
        },
        "id": "w3h3xReK0SXr",
        "outputId": "2870294f-8572-4072-8959-06fdd0ab8259"
      },
      "execution_count": 295,
      "outputs": [
        {
          "output_type": "stream",
          "name": "stdout",
          "text": [
            "x\n",
            "Model 1 :  73.39843327907987, \r\n",
            "Model 2 :  73.7104009338469\n",
            "\n",
            "\n",
            "y\n",
            "Model 1 :  81.10904747921978, \r\n",
            "Model 2 :  80.81932926068183\n",
            "\n",
            "\n",
            "z\n",
            "Model 1 :  74.34306233270308, \r\n",
            "Model 2 :  74.68162238137926\n",
            "\n",
            "\n"
          ]
        }
      ]
    },
    {
      "cell_type": "markdown",
      "source": [
        "# Autoencoder single-output\n"
      ],
      "metadata": {
        "id": "dery7m3mXbwG"
      }
    },
    {
      "cell_type": "code",
      "source": [
        "data = pd.read_csv('/content/drive/MyDrive/Deep Learning/Project/Task-1/train.csv')\n",
        "data_test = pd.read_csv('/content/drive/MyDrive/Deep Learning/Project/Task-1/test.csv')\n",
        "n_past = 30\n",
        "n_future = 1\n",
        "n_features = 3\n",
        "\n",
        "n = len(data)\n",
        "train_df = data[0:int(n*0.8)]\n",
        "val_df = data[int(n*0.8):]\n",
        "test_df = data_test"
      ],
      "metadata": {
        "id": "bjV5GIMnXfW9"
      },
      "execution_count": 309,
      "outputs": []
    },
    {
      "cell_type": "code",
      "source": [
        "from sklearn.preprocessing import MinMaxScaler\n",
        "\n",
        "train = train_df\n",
        "scalers={}\n",
        "\n",
        "for i in train_df.columns:\n",
        "    scaler = MinMaxScaler(feature_range=(-1,1))\n",
        "    s_s = scaler.fit_transform(train[i].values.reshape(-1,1))\n",
        "    s_s=np.reshape(s_s,len(s_s))\n",
        "    scalers['scaler_'+ i] = scaler\n",
        "    train[i]=s_s\n",
        "\n",
        "val = val_df\n",
        "for i in train_df.columns:\n",
        "    scaler = scalers['scaler_'+i]\n",
        "    s_s = scaler.transform(val[i].values.reshape(-1,1))\n",
        "    s_s=np.reshape(s_s,len(s_s))\n",
        "    scalers['scaler_'+i] = scaler\n",
        "    val[i]=s_s\n",
        "\n",
        "test = test_df\n",
        "for i in train_df.columns:\n",
        "    scaler = scalers['scaler_'+i]\n",
        "    s_s = scaler.transform(test[i].values.reshape(-1,1))\n",
        "    s_s=np.reshape(s_s,len(s_s))\n",
        "    scalers['scaler_'+i] = scaler\n",
        "    test[i]=s_s"
      ],
      "metadata": {
        "id": "UDGWG5S7YR1s"
      },
      "execution_count": null,
      "outputs": []
    },
    {
      "cell_type": "code",
      "source": [
        "x_train, y_train = split(train)\n",
        "x_val  , y_val  = split(val)"
      ],
      "metadata": {
        "id": "0UqrAvFbYvkL"
      },
      "execution_count": 318,
      "outputs": []
    },
    {
      "cell_type": "code",
      "source": [
        "X_train, y_train = split_series(train.values,n_past, n_future)\n",
        "X_train = X_train.reshape((X_train.shape[0], X_train.shape[1], n_features))\n",
        "y_train = y_train.reshape((y_train.shape[0], y_train.shape[1], n_features))\n",
        "\n",
        "X_val, y_val = split_series(val.values, n_past, n_future)\n",
        "X_val = X_val.reshape((X_val.shape[0], X_val.shape[1], n_features))\n",
        "y_val = y_val.reshape((y_val.shape[0], y_val.shape[1], n_features))"
      ],
      "metadata": {
        "id": "zGNVOmD2Z4xz"
      },
      "execution_count": 315,
      "outputs": []
    },
    {
      "cell_type": "code",
      "source": [
        "x_train.shape, y_train.shape"
      ],
      "metadata": {
        "colab": {
          "base_uri": "https://localhost:8080/"
        },
        "id": "FDhsvsNjZpuN",
        "outputId": "7a1bdd83-2da9-40b0-c7fc-7d2192520a51"
      },
      "execution_count": 320,
      "outputs": [
        {
          "output_type": "execute_result",
          "data": {
            "text/plain": [
              "((19316, 30, 3), (19316,))"
            ]
          },
          "metadata": {},
          "execution_count": 320
        }
      ]
    },
    {
      "cell_type": "code",
      "source": [
        "# E1D1\n",
        "# n_features ==> no of features at each timestep in the data.\n",
        "#\n",
        "encoder_inputs = tf.keras.layers.Input(shape=(n_past, n_features))\n",
        "encoder_l1 = tf.keras.layers.LSTM(16, return_state=True)\n",
        "encoder_outputs1 = encoder_l1(encoder_inputs)\n",
        "encoder_states1 = encoder_outputs1[1:]\n",
        "#\n",
        "decoder_inputs = tf.keras.layers.RepeatVector(n_future)(encoder_outputs1[0])\n",
        "#\n",
        "decoder_l1 = tf.keras.layers.LSTM(16, return_sequences=True)(decoder_inputs,initial_state = encoder_states1)\n",
        "decoder_outputs1 = tf.keras.layers.TimeDistributed(tf.keras.layers.Dense(1))(decoder_l1)\n",
        "\n",
        "model_e1d1 = tf.keras.models.Model(encoder_inputs, decoder_outputs1)\n",
        "#\n",
        "model_e1d1.summary()"
      ],
      "metadata": {
        "id": "vnkI6DFDZaox"
      },
      "execution_count": null,
      "outputs": []
    },
    {
      "cell_type": "code",
      "source": [
        "reduce_lr = tf.keras.callbacks.LearningRateScheduler(lambda x: 1e-3 * 0.90 ** x)\n",
        "\n",
        "model_e1d1.compile(optimizer=tf.keras.optimizers.Adam(), loss=tf.keras.losses.MeanAbsoluteError())\n",
        "history_e1d1=model_e1d1.fit(x_train, y_train, epochs=5, validation_data=(x_val,y_val), batch_size=32, verbose=1, callbacks=[reduce_lr])"
      ],
      "metadata": {
        "colab": {
          "base_uri": "https://localhost:8080/"
        },
        "id": "ntyRjueQdIJ2",
        "outputId": "66c58f96-4322-417b-9304-040fae22446a"
      },
      "execution_count": 333,
      "outputs": [
        {
          "output_type": "stream",
          "name": "stdout",
          "text": [
            "Epoch 1/5\n",
            "604/604 [==============================] - 17s 21ms/step - loss: 0.4439 - val_loss: 0.4333 - lr: 0.0010\n",
            "Epoch 2/5\n",
            "604/604 [==============================] - 11s 19ms/step - loss: 0.4402 - val_loss: 0.4331 - lr: 9.0000e-04\n",
            "Epoch 3/5\n",
            "604/604 [==============================] - 11s 19ms/step - loss: 0.4404 - val_loss: 0.4302 - lr: 8.1000e-04\n",
            "Epoch 4/5\n",
            "604/604 [==============================] - 11s 19ms/step - loss: 0.4401 - val_loss: 0.4336 - lr: 7.2900e-04\n",
            "Epoch 5/5\n",
            "604/604 [==============================] - 12s 19ms/step - loss: 0.4403 - val_loss: 0.4309 - lr: 6.5610e-04\n"
          ]
        }
      ]
    }
  ]
}